{
 "cells": [
  {
   "cell_type": "code",
   "execution_count": 1,
   "metadata": {},
   "outputs": [],
   "source": [
    "from statsmodels.tsa.stattools import grangercausalitytests"
   ]
  },
  {
   "cell_type": "code",
   "execution_count": 2,
   "metadata": {},
   "outputs": [],
   "source": [
    "import pandas as pd"
   ]
  },
  {
   "cell_type": "code",
   "execution_count": 4,
   "metadata": {},
   "outputs": [],
   "source": [
    "df = pd.read_csv(\"c_vol__btc_price_timeseries.csv\")"
   ]
  },
  {
   "cell_type": "code",
   "execution_count": 7,
   "metadata": {},
   "outputs": [],
   "source": [
    "arr = df.values"
   ]
  },
  {
   "cell_type": "code",
   "execution_count": 29,
   "metadata": {},
   "outputs": [
    {
     "name": "stdout",
     "output_type": "stream",
     "text": [
      "\n",
      "Granger Causality\n",
      "number of lags (no zero) 1\n",
      "ssr based F test:         F=19.4408 , p=0.0000  , df_denom=542, df_num=1\n",
      "ssr based chi2 test:   chi2=19.5484 , p=0.0000  , df=1\n",
      "likelihood ratio test: chi2=19.2060 , p=0.0000  , df=1\n",
      "parameter F test:         F=19.4408 , p=0.0000  , df_denom=542, df_num=1\n",
      "\n",
      "Granger Causality\n",
      "number of lags (no zero) 2\n",
      "ssr based F test:         F=6.0004  , p=0.0026  , df_denom=539, df_num=2\n",
      "ssr based chi2 test:   chi2=12.1121 , p=0.0023  , df=2\n",
      "likelihood ratio test: chi2=11.9793 , p=0.0025  , df=2\n",
      "parameter F test:         F=6.0004  , p=0.0026  , df_denom=539, df_num=2\n",
      "\n",
      "Granger Causality\n",
      "number of lags (no zero) 3\n",
      "ssr based F test:         F=3.0846  , p=0.0269  , df_denom=536, df_num=3\n",
      "ssr based chi2 test:   chi2=9.3748  , p=0.0247  , df=3\n",
      "likelihood ratio test: chi2=9.2948  , p=0.0256  , df=3\n",
      "parameter F test:         F=3.0846  , p=0.0269  , df_denom=536, df_num=3\n"
     ]
    },
    {
     "data": {
      "text/plain": [
       "{1: ({'ssr_ftest': (19.440775952849172, 1.2517586334846165e-05, 542.0, 1),\n",
       "   'ssr_chi2test': (19.548381723805903, 9.808378783715675e-06, 1),\n",
       "   'lrtest': (19.205959396413164, 1.1734648553793416e-05, 1),\n",
       "   'params_ftest': (19.44077595284921, 1.2517586334846165e-05, 542.0, 1.0)},\n",
       "  [<statsmodels.regression.linear_model.RegressionResultsWrapper at 0x7f6a7e3e0d10>,\n",
       "   <statsmodels.regression.linear_model.RegressionResultsWrapper at 0x7f6a7e3ebfd0>,\n",
       "   array([[0., 1., 0.]])]),\n",
       " 2: ({'ssr_ftest': (6.000403516383755, 0.002646335477109181, 539.0, 2),\n",
       "   'ssr_chi2test': (12.112131773331216, 0.002343602773952299, 2),\n",
       "   'lrtest': (11.979262384189497, 0.0025045875915901236, 2),\n",
       "   'params_ftest': (6.000403516383689, 0.0026463354771093382, 539.0, 2.0)},\n",
       "  [<statsmodels.regression.linear_model.RegressionResultsWrapper at 0x7f6a7e3ebcd0>,\n",
       "   <statsmodels.regression.linear_model.RegressionResultsWrapper at 0x7f6a7e3ebd10>,\n",
       "   array([[0., 0., 1., 0., 0.],\n",
       "          [0., 0., 0., 1., 0.]])]),\n",
       " 3: ({'ssr_ftest': (3.0846458862868773, 0.026948050743747398, 536.0, 3),\n",
       "   'ssr_chi2test': (9.374791322315902, 0.024701362556134247, 3),\n",
       "   'lrtest': (9.294783893703425, 0.025617776410815075, 3),\n",
       "   'params_ftest': (3.0846458862867316, 0.026948050743752616, 536.0, 3.0)},\n",
       "  [<statsmodels.regression.linear_model.RegressionResultsWrapper at 0x7f6a7e3eb450>,\n",
       "   <statsmodels.regression.linear_model.RegressionResultsWrapper at 0x7f6a7e3ebc90>,\n",
       "   array([[0., 0., 0., 1., 0., 0., 0.],\n",
       "          [0., 0., 0., 0., 1., 0., 0.],\n",
       "          [0., 0., 0., 0., 0., 1., 0.]])])}"
      ]
     },
     "execution_count": 29,
     "metadata": {},
     "output_type": "execute_result"
    }
   ],
   "source": [
    "grangercausalitytests(arr, 3)"
   ]
  },
  {
   "cell_type": "code",
   "execution_count": 15,
   "metadata": {},
   "outputs": [],
   "source": [
    "columnsTitles=[\"btc_price\", \"volume_comments\"]\n",
    "swapped_df =df.reindex(columns=columnsTitles)"
   ]
  },
  {
   "cell_type": "code",
   "execution_count": 22,
   "metadata": {},
   "outputs": [],
   "source": [
    "swapped_arr = swapped_df.values"
   ]
  },
  {
   "cell_type": "code",
   "execution_count": 28,
   "metadata": {},
   "outputs": [
    {
     "name": "stdout",
     "output_type": "stream",
     "text": [
      "\n",
      "Granger Causality\n",
      "number of lags (no zero) 1\n",
      "ssr based F test:         F=7.5887  , p=0.0061  , df_denom=542, df_num=1\n",
      "ssr based chi2 test:   chi2=7.6307  , p=0.0057  , df=1\n",
      "likelihood ratio test: chi2=7.5778  , p=0.0059  , df=1\n",
      "parameter F test:         F=7.5887  , p=0.0061  , df_denom=542, df_num=1\n",
      "\n",
      "Granger Causality\n",
      "number of lags (no zero) 2\n",
      "ssr based F test:         F=4.7094  , p=0.0094  , df_denom=539, df_num=2\n",
      "ssr based chi2 test:   chi2=9.5061  , p=0.0086  , df=2\n",
      "likelihood ratio test: chi2=9.4240  , p=0.0090  , df=2\n",
      "parameter F test:         F=4.7094  , p=0.0094  , df_denom=539, df_num=2\n",
      "\n",
      "Granger Causality\n",
      "number of lags (no zero) 3\n",
      "ssr based F test:         F=8.4085  , p=0.0000  , df_denom=536, df_num=3\n",
      "ssr based chi2 test:   chi2=25.5550 , p=0.0000  , df=3\n",
      "likelihood ratio test: chi2=24.9719 , p=0.0000  , df=3\n",
      "parameter F test:         F=8.4085  , p=0.0000  , df_denom=536, df_num=3\n"
     ]
    },
    {
     "data": {
      "text/plain": [
       "{1: ({'ssr_ftest': (7.588699123885784, 0.0060709445359987, 542.0, 1),\n",
       "   'ssr_chi2test': (7.630702993575188, 0.005738293192996484, 1),\n",
       "   'lrtest': (7.5777766042083385, 0.005909228352754346, 1),\n",
       "   'params_ftest': (7.588699123885043, 0.006070944536001472, 542.0, 1.0)},\n",
       "  [<statsmodels.regression.linear_model.RegressionResultsWrapper at 0x7f6a7ea4f490>,\n",
       "   <statsmodels.regression.linear_model.RegressionResultsWrapper at 0x7f6a7e3e0cd0>,\n",
       "   array([[0., 1., 0.]])]),\n",
       " 2: ({'ssr_ftest': (4.709386031186306, 0.009384348492379806, 539.0, 2),\n",
       "   'ssr_chi2test': (9.506144716012434, 0.008625154889645287, 2),\n",
       "   'lrtest': (9.424042096882658, 0.00898659686897883, 2),\n",
       "   'params_ftest': (4.709386031186681, 0.009384348492376106, 539.0, 2.0)},\n",
       "  [<statsmodels.regression.linear_model.RegressionResultsWrapper at 0x7f6a7e3e0dd0>,\n",
       "   <statsmodels.regression.linear_model.RegressionResultsWrapper at 0x7f6a7e3e0810>,\n",
       "   array([[0., 0., 1., 0., 0.],\n",
       "          [0., 0., 0., 1., 0.]])]),\n",
       " 3: ({'ssr_ftest': (8.408511460307055, 1.807393020794718e-05, 536.0, 3),\n",
       "   'ssr_chi2test': (25.55497232992574, 1.1818968210251822e-05, 3),\n",
       "   'lrtest': (24.97185635250389, 1.5651126297200467e-05, 3),\n",
       "   'params_ftest': (8.408511460307677, 1.8073930207932123e-05, 536.0, 3.0)},\n",
       "  [<statsmodels.regression.linear_model.RegressionResultsWrapper at 0x7f6a7e3e0290>,\n",
       "   <statsmodels.regression.linear_model.RegressionResultsWrapper at 0x7f6a7e3e0550>,\n",
       "   array([[0., 0., 0., 1., 0., 0., 0.],\n",
       "          [0., 0., 0., 0., 1., 0., 0.],\n",
       "          [0., 0., 0., 0., 0., 1., 0.]])])}"
      ]
     },
     "execution_count": 28,
     "metadata": {},
     "output_type": "execute_result"
    }
   ],
   "source": [
    "grangercausalitytests(swapped_arr, 3)"
   ]
  },
  {
   "cell_type": "markdown",
   "metadata": {},
   "source": [
    "### Using nitime"
   ]
  },
  {
   "cell_type": "code",
   "execution_count": 31,
   "metadata": {},
   "outputs": [],
   "source": [
    "import nitime\n",
    "import nitime.analysis as nta\n",
    "import nitime.timeseries as ts\n",
    "import nitime.utils as tsu\n",
    "from nitime.viz import drawmatrix_channels"
   ]
  },
  {
   "cell_type": "code",
   "execution_count": null,
   "metadata": {},
   "outputs": [],
   "source": []
  }
 ],
 "metadata": {
  "kernelspec": {
   "display_name": "Python 3",
   "language": "python",
   "name": "python3"
  },
  "language_info": {
   "codemirror_mode": {
    "name": "ipython",
    "version": 3
   },
   "file_extension": ".py",
   "mimetype": "text/x-python",
   "name": "python",
   "nbconvert_exporter": "python",
   "pygments_lexer": "ipython3",
   "version": "3.7.4"
  }
 },
 "nbformat": 4,
 "nbformat_minor": 2
}

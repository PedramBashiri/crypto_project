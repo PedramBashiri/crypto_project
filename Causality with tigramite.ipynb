{
 "cells": [
  {
   "cell_type": "code",
   "execution_count": 33,
   "metadata": {},
   "outputs": [],
   "source": [
    "import numpy\n",
    "from tigramite.pcmci import PCMCI\n",
    "from tigramite.independence_tests import ParCorr\n",
    "import tigramite.data_processing as pp\n",
    "import tigramite.plotting as pl"
   ]
  },
  {
   "cell_type": "markdown",
   "metadata": {},
   "source": [
    "### Demo"
   ]
  },
  {
   "cell_type": "code",
   "execution_count": 4,
   "metadata": {},
   "outputs": [],
   "source": [
    "numpy.random.seed(42)"
   ]
  },
  {
   "cell_type": "code",
   "execution_count": 5,
   "metadata": {},
   "outputs": [],
   "source": [
    "links_coeffs = {0: [((0, -1), 0.8)],\n",
    "                    1: [((1, -1), 0.8), ((0, -1), 0.5)],\n",
    "                    2: [((2, -1), 0.8), ((1, -2), -0.6)]}"
   ]
  },
  {
   "cell_type": "code",
   "execution_count": 6,
   "metadata": {},
   "outputs": [],
   "source": [
    "data, _ = pp.var_process(links_coeffs, T=1000)"
   ]
  },
  {
   "cell_type": "code",
   "execution_count": 8,
   "metadata": {},
   "outputs": [],
   "source": [
    "dataframe = pp.DataFrame(data)\n",
    "cond_ind_test = ParCorr()\n",
    "pcmci = PCMCI(dataframe=dataframe, cond_ind_test=cond_ind_test)\n",
    "results = pcmci.run_pcmci(tau_max=2, pc_alpha=None)"
   ]
  },
  {
   "cell_type": "code",
   "execution_count": 12,
   "metadata": {},
   "outputs": [
    {
     "name": "stdout",
     "output_type": "stream",
     "text": [
      "\n",
      "## Significant links at alpha = 0.05:\n",
      "\n",
      "    Variable 0 has 1 link(s):\n",
      "        (0 -1): pval = 0.00000 | val = 0.624\n",
      "\n",
      "    Variable 1 has 2 link(s):\n",
      "        (1 -1): pval = 0.00000 | val = 0.601\n",
      "        (0 -1): pval = 0.00000 | val = 0.487\n",
      "\n",
      "    Variable 2 has 2 link(s):\n",
      "        (2 -1): pval = 0.00000 | val = 0.597\n",
      "        (1 -2): pval = 0.00000 | val = -0.511\n"
     ]
    }
   ],
   "source": [
    "pcmci._print_significant_links(p_matrix=results['p_matrix'],\n",
    "                                     val_matrix=results['val_matrix'],\n",
    "                                     alpha_level=0.05)"
   ]
  },
  {
   "cell_type": "code",
   "execution_count": 18,
   "metadata": {},
   "outputs": [
    {
     "data": {
      "text/plain": [
       "{'parents': {0: [(0, -1)], 1: [(1, -1), (0, -1)], 2: [(2, -1), (1, -2)]},\n",
       " 'link_matrix': array([[[False,  True, False],\n",
       "         [False,  True, False],\n",
       "         [False, False, False]],\n",
       " \n",
       "        [[False, False, False],\n",
       "         [False,  True, False],\n",
       "         [False, False,  True]],\n",
       " \n",
       "        [[False, False, False],\n",
       "         [False, False, False],\n",
       "         [False,  True, False]]])}"
      ]
     },
     "execution_count": 18,
     "metadata": {},
     "output_type": "execute_result"
    }
   ],
   "source": [
    "pcmci._return_significant_parents(pq_matrix=results['p_matrix'],\n",
    "                                     val_matrix=results['val_matrix'],\n",
    "                                     alpha_level=0.05)"
   ]
  },
  {
   "cell_type": "markdown",
   "metadata": {},
   "source": [
    "### Run with my data"
   ]
  },
  {
   "cell_type": "code",
   "execution_count": 30,
   "metadata": {},
   "outputs": [
    {
     "name": "stderr",
     "output_type": "stream",
     "text": [
      "/home/pbashiri/anaconda3/lib/python3.7/site-packages/tigramite/independence_tests.py:1144: FutureWarning: `rcond` parameter will change to the default of machine precision times ``max(M, N)`` where M and N are the input matrix dimensions.\n",
      "To use the future default and silence this warning we advise to pass `rcond=None`, to keep using the old, explicitly pass `rcond=-1`.\n",
      "  beta_hat = numpy.linalg.lstsq(z, y)[0]\n"
     ]
    }
   ],
   "source": [
    "import pandas as pd\n",
    "\n",
    "df = pd.read_csv(\"c_vol__btc_price_timeseries.csv\")\n",
    "arr = df.values\n",
    "\n",
    "tig_df = pp.DataFrame(arr)\n",
    "\n",
    "pcmci = PCMCI(dataframe=tig_df, cond_ind_test=cond_ind_test)\n",
    "results = pcmci.run_pcmci(tau_max=2, pc_alpha=None)"
   ]
  },
  {
   "cell_type": "code",
   "execution_count": 35,
   "metadata": {},
   "outputs": [
    {
     "data": {
      "text/plain": [
       "{'val_matrix': array([[[ 0.        ,  0.55064542,  0.09614107],\n",
       "         [ 0.        ,  0.08930613, -0.15709255]],\n",
       " \n",
       "        [[ 0.        ,  0.02483792,  0.0422932 ],\n",
       "         [ 0.        ,  0.73572467, -0.05315678]]]),\n",
       " 'p_matrix': array([[[1.00000000e+00, 3.87254695e-44, 2.56124768e-02],\n",
       "         [1.00000000e+00, 3.83810952e-02, 2.57604773e-04]],\n",
       " \n",
       "        [[1.00000000e+00, 5.65749307e-01, 3.28415857e-01],\n",
       "         [1.00000000e+00, 1.35342269e-92, 2.19630205e-01]]]),\n",
       " 'q_matrix': None,\n",
       " 'conf_matrix': None}"
      ]
     },
     "execution_count": 35,
     "metadata": {},
     "output_type": "execute_result"
    }
   ],
   "source": [
    "results"
   ]
  },
  {
   "cell_type": "code",
   "execution_count": 31,
   "metadata": {},
   "outputs": [
    {
     "name": "stdout",
     "output_type": "stream",
     "text": [
      "\n",
      "## Significant links at alpha = 0.05:\n",
      "\n",
      "    Variable 0 has 2 link(s):\n",
      "        (0 -1): pval = 0.00000 | val = 0.551\n",
      "        (0 -2): pval = 0.02561 | val = 0.096\n",
      "\n",
      "    Variable 1 has 3 link(s):\n",
      "        (1 -1): pval = 0.00000 | val = 0.736\n",
      "        (0 -2): pval = 0.00026 | val = -0.157\n",
      "        (0 -1): pval = 0.03838 | val = 0.089\n"
     ]
    }
   ],
   "source": [
    "pcmci._print_significant_links(p_matrix=results['p_matrix'],\n",
    "                                     val_matrix=results['val_matrix'],\n",
    "                                     alpha_level=0.05)"
   ]
  },
  {
   "cell_type": "code",
   "execution_count": 48,
   "metadata": {},
   "outputs": [],
   "source": [
    "dic = pcmci._return_significant_parents(pq_matrix=results['p_matrix'],\n",
    "                                     val_matrix=results['val_matrix'],\n",
    "                                     alpha_level=0.05)"
   ]
  },
  {
   "cell_type": "code",
   "execution_count": 50,
   "metadata": {},
   "outputs": [
    {
     "data": {
      "text/plain": [
       "{'parents': {0: [(0, -1), (0, -2)], 1: [(1, -1), (0, -2), (0, -1)]},\n",
       " 'link_matrix': array([[[False,  True,  True],\n",
       "         [False,  True,  True]],\n",
       " \n",
       "        [[False, False, False],\n",
       "         [False,  True, False]]])}"
      ]
     },
     "execution_count": 50,
     "metadata": {},
     "output_type": "execute_result"
    }
   ],
   "source": [
    "dic"
   ]
  },
  {
   "cell_type": "code",
   "execution_count": 51,
   "metadata": {},
   "outputs": [
    {
     "data": {
      "text/plain": [
       "numpy.ndarray"
      ]
     },
     "execution_count": 51,
     "metadata": {},
     "output_type": "execute_result"
    }
   ],
   "source": [
    "type(dic['link_matrix'])"
   ]
  },
  {
   "cell_type": "code",
   "execution_count": 52,
   "metadata": {},
   "outputs": [
    {
     "data": {
      "image/png": "[encoded data removed]",
      "text/plain": [
       "<Figure size 432x288 with 2 Axes>"
      ]
     },
     "metadata": {
      "needs_background": "light"
     },
     "output_type": "display_data"
    }
   ],
   "source": [
    "pl.plot_time_series_graph(results['val_matrix'], link_matrix=dic['link_matrix'])"
   ]
  },
  {
   "cell_type": "code",
   "execution_count": null,
   "metadata": {},
   "outputs": [],
   "source": []
  }
 ],
 "metadata": {
  "kernelspec": {
   "display_name": "Python 3",
   "language": "python",
   "name": "python3"
  },
  "language_info": {
   "codemirror_mode": {
    "name": "ipython",
    "version": 3
   },
   "file_extension": ".py",
   "mimetype": "text/x-python",
   "name": "python",
   "nbconvert_exporter": "python",
   "pygments_lexer": "ipython3",
   "version": "3.7.4"
  }
 },
 "nbformat": 4,
 "nbformat_minor": 2
}

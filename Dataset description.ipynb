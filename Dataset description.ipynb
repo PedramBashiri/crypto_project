{
 "cells": [
  {
   "cell_type": "code",
   "execution_count": 15,
   "metadata": {},
   "outputs": [],
   "source": [
    "import networkx as nx\n",
    "import time\n",
    "import datetime\n",
    "import json"
   ]
  },
  {
   "cell_type": "code",
   "execution_count": 3,
   "metadata": {},
   "outputs": [],
   "source": [
    "G = nx.read_gpickle('cascades_bitcoin_20170801_20180430.gpickle')"
   ]
  },
  {
   "cell_type": "code",
   "execution_count": 12,
   "metadata": {},
   "outputs": [
    {
     "name": "stdout",
     "output_type": "stream",
     "text": [
      "Starting at 2019-10-30 10:42:19.291400\n",
      "Finished at 2019-10-30 10:42:26.002904\n",
      "Total time: --- 6.712 seconds ---\n"
     ]
    }
   ],
   "source": [
    "start_time = time.time()\n",
    "print(\"Starting at \" + str(datetime.datetime.now()))\n",
    "\n",
    "most_recent_epoch = 0\n",
    "most_recent_node = None\n",
    "\n",
    "oldest_epoch = 1000000000000\n",
    "oldest_node = None\n",
    "\n",
    "c = 0\n",
    "\n",
    "for n in G.nodes:\n",
    "#     c += 1\n",
    "#     if (c > 3):\n",
    "#         break\n",
    "        \n",
    "#     print(G.nodes[n])\n",
    "    if 'created_utc' in G.nodes[n]:\n",
    "        epoch = int(G.nodes[n]['created_utc'])\n",
    "        if epoch < oldest_epoch:\n",
    "            oldest_epoch = epoch\n",
    "            oldest_node = n\n",
    "\n",
    "        if epoch > most_recent_epoch:\n",
    "            most_recent_epoch = epoch\n",
    "            most_recent_node = n\n",
    "\n",
    "print(\"Finished at \" + str(datetime.datetime.now()))\n",
    "print(\"Total time: --- {0} seconds ---\".format(round(time.time() - start_time, 4)))"
   ]
  },
  {
   "cell_type": "code",
   "execution_count": 13,
   "metadata": {},
   "outputs": [
    {
     "name": "stdout",
     "output_type": "stream",
     "text": [
      "1525060733\n",
      "8fwsk4\n",
      "1501560007\n",
      "dkzy8lv\n"
     ]
    }
   ],
   "source": [
    "print(most_recent_epoch)\n",
    "print(most_recent_node)\n",
    "\n",
    "print(oldest_epoch)\n",
    "print(oldest_node)"
   ]
  },
  {
   "cell_type": "code",
   "execution_count": 16,
   "metadata": {},
   "outputs": [],
   "source": [
    "with open('../data/steph_n_andrew/submissions.json', 'r') as f:\n",
    "    submissions = json.load(f)"
   ]
  },
  {
   "cell_type": "code",
   "execution_count": 17,
   "metadata": {},
   "outputs": [],
   "source": [
    "with open('../data/steph_n_andrew/comments.json', 'r') as f:\n",
    "    comments = json.load(f)"
   ]
  },
  {
   "cell_type": "code",
   "execution_count": 18,
   "metadata": {},
   "outputs": [
    {
     "name": "stdout",
     "output_type": "stream",
     "text": [
      "Starting at 2019-10-30 11:12:17.267167\n",
      "Number of corrupted items:  51\n",
      "Finished at 2019-10-30 11:12:20.582688\n",
      "Total time: --- 3.3157 seconds ---\n"
     ]
    }
   ],
   "source": [
    "start_time = time.time()\n",
    "print(\"Starting at \" + str(datetime.datetime.now()))\n",
    "\n",
    "most_recent_epoch_sub = 0\n",
    "most_recent_sub = None\n",
    "\n",
    "oldest_epoch_sub = 1000000000000\n",
    "oldest_sub = None\n",
    "\n",
    "for i, submission in enumerate(submissions):\n",
    "    sub_id = submission\n",
    "    try:\n",
    "        epoch = int(submissions[submission]['time'])\n",
    "        subreddit = submissions[submission]['subreddit']\n",
    "        author = submissions[submission]['author']\n",
    "\n",
    "    except TypeError:\n",
    "        corupt_sub_counter += 1\n",
    "\n",
    "    if epoch < oldest_epoch_sub:\n",
    "        oldest_epoch_sub = epoch\n",
    "        oldest_sub = submission\n",
    "\n",
    "    if epoch > most_recent_epoch_sub:\n",
    "        most_recent_epoch_sub = epoch\n",
    "        most_recent_sub = submission\n",
    "\n",
    "print(\"Finished at \" + str(datetime.datetime.now()))\n",
    "print(\"Total time: --- {0} seconds ---\".format(round(time.time() - start_time, 4)))"
   ]
  },
  {
   "cell_type": "code",
   "execution_count": 19,
   "metadata": {},
   "outputs": [
    {
     "name": "stdout",
     "output_type": "stream",
     "text": [
      "1541030391\n",
      "9t4epj\n",
      "1325405786\n",
      "nyff2\n"
     ]
    }
   ],
   "source": [
    "print(most_recent_epoch_sub)\n",
    "print(most_recent_sub)\n",
    "\n",
    "print(oldest_epoch_sub)\n",
    "print(oldest_sub)"
   ]
  },
  {
   "cell_type": "code",
   "execution_count": 20,
   "metadata": {},
   "outputs": [
    {
     "name": "stdout",
     "output_type": "stream",
     "text": [
      "Starting at 2019-10-30 11:17:10.342478\n",
      "Finished at 2019-10-30 11:17:40.645187\n",
      "Total time: --- 30.3033 seconds ---\n"
     ]
    }
   ],
   "source": [
    "start_time = time.time()\n",
    "print(\"Starting at \" + str(datetime.datetime.now()))\n",
    "\n",
    "corupt_com_counter = 0\n",
    "\n",
    "most_recent_epoch_com = 0\n",
    "most_recent_com = None\n",
    "\n",
    "oldest_epoch_com = 1000000000000\n",
    "oldest_com = None\n",
    "\n",
    "for i, comment in enumerate(comments):\n",
    "    try:\n",
    "        com_epoch = int(comments[comment]['time'])\n",
    "\n",
    "    except TypeError:\n",
    "        corupt_com_counter += 1\n",
    "\n",
    "    if com_epoch < oldest_epoch_com:\n",
    "        oldest_epoch_com = com_epoch\n",
    "        oldest_com = comment\n",
    "\n",
    "    if com_epoch > most_recent_epoch_com:\n",
    "        most_recent_epoch_com = com_epoch\n",
    "        most_recent_com = comment\n",
    "\n",
    "print(\"Finished at \" + str(datetime.datetime.now()))\n",
    "print(\"Total time: --- {0} seconds ---\".format(round(time.time() - start_time, 4)))"
   ]
  },
  {
   "cell_type": "code",
   "execution_count": 21,
   "metadata": {},
   "outputs": [
    {
     "name": "stdout",
     "output_type": "stream",
     "text": [
      "1541030399\n",
      "e8tki4n\n",
      "1325376007\n",
      "c3ctzu3\n"
     ]
    }
   ],
   "source": [
    "print(most_recent_epoch_com)\n",
    "print(most_recent_com)\n",
    "\n",
    "print(oldest_epoch_com)\n",
    "print(oldest_com)"
   ]
  },
  {
   "cell_type": "code",
   "execution_count": null,
   "metadata": {},
   "outputs": [],
   "source": []
  }
 ],
 "metadata": {
  "kernelspec": {
   "display_name": "Python 3",
   "language": "python",
   "name": "python3"
  },
  "language_info": {
   "codemirror_mode": {
    "name": "ipython",
    "version": 3
   },
   "file_extension": ".py",
   "mimetype": "text/x-python",
   "name": "python",
   "nbconvert_exporter": "python",
   "pygments_lexer": "ipython3",
   "version": "3.7.4"
  }
 },
 "nbformat": 4,
 "nbformat_minor": 2
}

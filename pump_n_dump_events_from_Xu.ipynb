{
 "cells": [
  {
   "cell_type": "code",
   "execution_count": 1,
   "metadata": {},
   "outputs": [],
   "source": [
    "import json\n",
    "import time\n",
    "import datetime\n",
    "import requests\n",
    "import matplotlib.pyplot as plt\n",
    "import seaborn as sns\n",
    "sns.set(style=\"whitegrid\")\n",
    "import matplotlib.dates as mdates"
   ]
  },
  {
   "cell_type": "code",
   "execution_count": 2,
   "metadata": {},
   "outputs": [],
   "source": [
    "with open(\"data/pump_n_dump_events/pump_n_dump_events_from_USENIX_paper.json\") as f:\n",
    "    json_obj = json.load(f)"
   ]
  },
  {
   "cell_type": "code",
   "execution_count": 3,
   "metadata": {},
   "outputs": [],
   "source": [
    "json_arr = json_obj['x']['data']"
   ]
  },
  {
   "cell_type": "code",
   "execution_count": 4,
   "metadata": {},
   "outputs": [
    {
     "data": {
      "text/plain": [
       "660"
      ]
     },
     "execution_count": 4,
     "metadata": {},
     "output_type": "execute_result"
    }
   ],
   "source": [
    "len(json_arr)"
   ]
  },
  {
   "cell_type": "code",
   "execution_count": 5,
   "metadata": {},
   "outputs": [
    {
     "data": {
      "text/plain": [
       "['2019-02-08 16:30:43<br>SUB pumped by Crypto Market Signalz<br>3-hour open: 1.21e-05 BTC<br>3-hour high: 1.298e-05 BTC<br>pump gain: 7.27%',\n",
       " '2019-02-08 16:30:43<br>SUB pumped by Crypto Market Signalz<br>3-hour open: 1.21e-05 BTC<br>3-hour high: 1.298e-05 BTC<br>pump gain: 7.27%']"
      ]
     },
     "execution_count": 5,
     "metadata": {},
     "output_type": "execute_result"
    }
   ],
   "source": [
    "json_arr[0]['text']"
   ]
  },
  {
   "cell_type": "code",
   "execution_count": 6,
   "metadata": {},
   "outputs": [],
   "source": [
    "for data in json_arr:\n",
    "    if data['text'][0] != data['text'][1]:\n",
    "        print(data['text'])"
   ]
  },
  {
   "cell_type": "code",
   "execution_count": 7,
   "metadata": {},
   "outputs": [],
   "source": [
    "events = list(map(lambda x: x['text'][0], json_arr))"
   ]
  },
  {
   "cell_type": "code",
   "execution_count": 8,
   "metadata": {},
   "outputs": [
    {
     "data": {
      "text/plain": [
       "660"
      ]
     },
     "execution_count": 8,
     "metadata": {},
     "output_type": "execute_result"
    }
   ],
   "source": [
    "len(events)"
   ]
  },
  {
   "cell_type": "code",
   "execution_count": 9,
   "metadata": {},
   "outputs": [
    {
     "data": {
      "text/plain": [
       "'2019-02-08 16:30:43<br>SUB dumped by Crypto Market Signalz<br>3-hour high: 1.298e-05 BTC<br>3-hour close: 1.21e-05 BTC<br>dump loss: -6.78%'"
      ]
     },
     "execution_count": 9,
     "metadata": {},
     "output_type": "execute_result"
    }
   ],
   "source": [
    "events[1]"
   ]
  },
  {
   "cell_type": "code",
   "execution_count": 10,
   "metadata": {},
   "outputs": [],
   "source": [
    "class PumpDumpEvent():\n",
    "    def __init__(self):\n",
    "        self.coin_name = None\n",
    "        self.datetime = None\n",
    "        self.channel = None\n",
    "        self.open_price = None\n",
    "        self.close_price = None\n",
    "        self.high_price = None\n",
    "        self.pump_gain_perct = None\n",
    "        self.dump_loss_perct = None\n",
    "        \n",
    "    def read_from_text(self, texts):\n",
    "        pump_text = texts[0]\n",
    "        dump_text = texts[1]\n",
    "        \n",
    "        parts = pump_text.split(\"<br>\", 1)\n",
    "        self.datetime = datetime.datetime.strptime(parts[0], \"%Y-%m-%d %H:%M:%S\")\n",
    "        second_parts = parts[1].split(\" pumped by \")\n",
    "        self.coin_name = second_parts[0]\n",
    "        third_parts = second_parts[1].split('<br>', 1)\n",
    "        self.channel = third_parts[0]\n",
    "        fourth_parts= third_parts[1].split('<br>')\n",
    "        self.open_price = float(fourth_parts[0][len(\"3-hour open: \"):-len(\" BTC\")])\n",
    "        self.high_price = float(fourth_parts[1][len(\"3-hour high: \"):-len(\" BTC\")])\n",
    "        self.pump_gain_perct = float(fourth_parts[2][len(\"pump gain: \"):-len(\"%\")])  \n",
    "        \n",
    "        dump_parts = dump_text.split(\"<br>\")\n",
    "        self.close_price = float(dump_parts[3][len(\"3-hour close: \"):-len(\" BTC\")])\n",
    "        self.dump_loss_perct = float(dump_parts[4][len(\"dump loss: \"):-len(\"%\")])\n",
    "        \n",
    "    def print(self):\n",
    "        print(\n",
    "            \"Coin name: \" + self.coin_name \\\n",
    "             + \" Datetime: \" + str(self.datetime) \\\n",
    "             + \" Channel: \" + self.channel \\\n",
    "             + \" Open price: \" + str(self.open_price) \\\n",
    "             + \" Close price: \" + str(self.close_price) \\\n",
    "             + \" High price: \" + str(self.high_price) \\\n",
    "             + \" Pump gain percentage: \" + str(self.pump_gain_perct) \\\n",
    "             + \" Dump loss percentage: \" + str(self.dump_loss_perct)\n",
    "        )"
   ]
  },
  {
   "cell_type": "code",
   "execution_count": 11,
   "metadata": {},
   "outputs": [
    {
     "name": "stdout",
     "output_type": "stream",
     "text": [
      "Coin name: SUB Datetime: 2019-02-08 16:30:43 Channel: Crypto Market Signalz Open price: 1.21e-05 Close price: 1.21e-05 High price: 1.298e-05 Pump gain percentage: 7.27 Dump loss percentage: -6.78\n"
     ]
    }
   ],
   "source": [
    "ex = events[0:2]\n",
    "pe = PumpDumpEvent()\n",
    "pe.read_from_text(ex)\n",
    "pe.print()"
   ]
  },
  {
   "cell_type": "code",
   "execution_count": 12,
   "metadata": {},
   "outputs": [],
   "source": [
    "pump_n_dumps = []\n",
    "\n",
    "i=0\n",
    "while i < len(events):    \n",
    "    pd = PumpDumpEvent()\n",
    "    pd.read_from_text([events[i], events[i+1]])\n",
    "    pump_n_dumps.append(pd)\n",
    "    i += 2"
   ]
  },
  {
   "cell_type": "code",
   "execution_count": 13,
   "metadata": {},
   "outputs": [
    {
     "data": {
      "text/plain": [
       "330"
      ]
     },
     "execution_count": 13,
     "metadata": {},
     "output_type": "execute_result"
    }
   ],
   "source": [
    "len(pump_n_dumps)"
   ]
  },
  {
   "cell_type": "code",
   "execution_count": 14,
   "metadata": {},
   "outputs": [],
   "source": [
    "start = datetime.datetime.strptime('2018-07-10', \"%Y-%m-%d\")\n",
    "end = datetime.datetime.strptime('2018-07-15', \"%Y-%m-%d\")"
   ]
  },
  {
   "cell_type": "code",
   "execution_count": 15,
   "metadata": {},
   "outputs": [],
   "source": [
    "close_t0o_7_10 = [pd for pd in pump_n_dumps if pd.datetime > start and pd.datetime < end]"
   ]
  },
  {
   "cell_type": "code",
   "execution_count": 44,
   "metadata": {},
   "outputs": [
    {
     "name": "stdout",
     "output_type": "stream",
     "text": [
      "Coin name: OSC Datetime: 2018-07-14 19:00:08 Channel: Donald Pump Open price: 1.31e-06 Close price: 1.07e-06 High price: 2.95e-06 Pump gain percentage: 125.19 Dump loss percentage: -63.73\n",
      "\n",
      "\n",
      "Coin name: BUMBA Datetime: 2018-07-13 18:30:15 Channel: Bitcoin Pump Signal ™ Open price: 7.8e-07 Close price: 7.3e-07 High price: 2.05e-06 Pump gain percentage: 162.82 Dump loss percentage: -64.39\n",
      "\n",
      "\n",
      "Coin name: QBT Datetime: 2018-07-12 15:00:12 Channel: Crypto Pump Island Open price: 2e-07 Close price: 2.3e-07 High price: 3.9e-07 Pump gain percentage: 95.0 Dump loss percentage: -41.03\n",
      "\n",
      "\n",
      "Coin name: FNTB Datetime: 2018-07-11 21:07:27 Channel: Pump Up Open price: 2.258e-05 Close price: 2.869e-05 High price: 2.869e-05 Pump gain percentage: 27.06 Dump loss percentage: 0.0\n",
      "\n",
      "\n",
      "Coin name: BUBO Datetime: 2018-07-10 19:00:08 Channel: Donald Pump Open price: 3.26e-06 Close price: 2.54e-06 High price: 7.9e-06 Pump gain percentage: 142.33 Dump loss percentage: -67.85\n",
      "\n",
      "\n"
     ]
    }
   ],
   "source": [
    "for pd in close_t0o_7_10:\n",
    "    pd.print()\n",
    "    print(\"\\n\")"
   ]
  },
  {
   "cell_type": "code",
   "execution_count": 17,
   "metadata": {},
   "outputs": [
    {
     "name": "stdout",
     "output_type": "stream",
     "text": [
      "660 pump and dump events\n",
      "188 unique coins\n",
      "79 unique channels\n",
      "Max gain 874.19%\n",
      "Min loss -96.61%\n",
      "Earliest event: 2018-06-18 17:59:05\n",
      "Latest event: 2019-02-08 16:30:43\n"
     ]
    }
   ],
   "source": [
    "import math\n",
    "coins_set = set()\n",
    "channels_set = set()\n",
    "max_gain = 0.0\n",
    "min_loss = 0.0\n",
    "earliest_event = datetime.datetime.now()\n",
    "latest_event = datetime.datetime.now() - datetime.timedelta(days= 3*365)\n",
    "\n",
    "for pd in pump_n_dumps:\n",
    "    coins_set.add(pd.coin_name)\n",
    "    channels_set.add(pd.channel)\n",
    "    \n",
    "    if pd.pump_gain_perct > max_gain and pd.pump_gain_perct != math.inf:\n",
    "        max_gain = pd.pump_gain_perct\n",
    "        max_gain_coin_name = pd.coin_name\n",
    "        \n",
    "    if pd.dump_loss_perct < min_loss:\n",
    "        min_loss = pd.dump_loss_perct\n",
    "        \n",
    "    if pd.datetime < earliest_event:\n",
    "        earliest_event = pd.datetime\n",
    "        \n",
    "    if pd.datetime > latest_event:\n",
    "        latest_event = pd.datetime\n",
    "        \n",
    "print(len(events), \"pump and dump events\")\n",
    "print(len(coins_set), \"unique coins\")\n",
    "print(len(channels_set), \"unique channels\")\n",
    "print(\"Max gain \" + str(max_gain) + \"%\")\n",
    "print(\"Min loss \" + str(min_loss) + \"%\")\n",
    "print(\"Earliest event:\", earliest_event)\n",
    "print(\"Latest event:\", latest_event)\n"
   ]
  },
  {
   "cell_type": "code",
   "execution_count": 18,
   "metadata": {},
   "outputs": [
    {
     "data": {
      "text/plain": [
       "'CL'"
      ]
     },
     "execution_count": 18,
     "metadata": {},
     "output_type": "execute_result"
    }
   ],
   "source": [
    "max_gain_coin_name"
   ]
  },
  {
   "cell_type": "code",
   "execution_count": 19,
   "metadata": {},
   "outputs": [],
   "source": [
    "gains = list(map(lambda x: x.pump_gain_perct, pump_n_dumps))"
   ]
  },
  {
   "cell_type": "code",
   "execution_count": 20,
   "metadata": {},
   "outputs": [
    {
     "data": {
      "text/plain": [
       "330"
      ]
     },
     "execution_count": 20,
     "metadata": {},
     "output_type": "execute_result"
    }
   ],
   "source": [
    "len(gains)"
   ]
  },
  {
   "cell_type": "code",
   "execution_count": 21,
   "metadata": {},
   "outputs": [
    {
     "data": {
      "text/plain": [
       "{'BIG PUMP SIGNAL',\n",
       " 'BTTM ®',\n",
       " 'Big Crypto Pump',\n",
       " 'Big Pump Signal',\n",
       " 'Big Pump Signal®',\n",
       " 'Big Pump channel',\n",
       " 'Big signal',\n",
       " 'BigPumpGroup.com',\n",
       " 'Biggest Pumps',\n",
       " 'Binance Profit Signal',\n",
       " 'Bitcoin Pump Group',\n",
       " 'Bitcoin Pump Signal ™',\n",
       " 'Bitmex Pro Signals',\n",
       " 'Bomba bitcoin \"cryptopia\"',\n",
       " 'CAMP(Crypto Analysis & Market Prediction)',\n",
       " 'CRYPTO BLACK 🇰🇷',\n",
       " 'Central Pumps',\n",
       " 'Crypto Bulls Pump ®🥇',\n",
       " 'Crypto Coins (Ƀ)',\n",
       " 'Crypto Experts Signal®',\n",
       " 'Crypto Market Signalz',\n",
       " 'Crypto Mega Pumps Yobit',\n",
       " 'Crypto Pump Island',\n",
       " 'Crypto Pumpers',\n",
       " 'Crypto Rocket ®',\n",
       " 'Crypto Signals & Pumps',\n",
       " 'Crypto Vip signal™',\n",
       " 'Crypto Whales™',\n",
       " 'Crypto trading. ™',\n",
       " 'CryptoMoon Pumps',\n",
       " 'DA PUMP',\n",
       " 'Donald Pump',\n",
       " 'Dynamic Signals',\n",
       " 'Inner Signals Circle - BITTREX / UPBIT (비트렉스,업비트)',\n",
       " 'John McAfee Yobit Pump',\n",
       " 'Kênh cập nhật chiến lược giao dịch alt coin',\n",
       " 'LEAK Signal',\n",
       " 'MassivePump',\n",
       " 'McAfee Alt Signals™',\n",
       " 'Mega Pump Group',\n",
       " 'Mega Pumps',\n",
       " 'Moon Pump™',\n",
       " 'OFFICIAL SIGNAL EXPERT®',\n",
       " 'OSNOVA PUMP',\n",
       " 'Off',\n",
       " 'Official McAfee Pump Signals™',\n",
       " 'Opop',\n",
       " 'Optimus Pump',\n",
       " 'PUMP OFFICIAL CRYPTO',\n",
       " 'Palm Venice Beach',\n",
       " 'Pump Signals',\n",
       " 'Pump Up',\n",
       " \"Pump'N'Pump\",\n",
       " 'Rocket BINANCE Pump 🚀',\n",
       " 'Shark Pump Signals',\n",
       " 'Signal Plug 📊🔌',\n",
       " 'Signals Lion',\n",
       " 'Signalsgram',\n",
       " 'Super Pumps & Signal Kings',\n",
       " 'The Crypto Analyst',\n",
       " 'Tornado Signals',\n",
       " 'Trading Crypto Coach®',\n",
       " 'US pump signals',\n",
       " 'Whales Crypto Guide',\n",
       " 'YoBit Pumps',\n",
       " 'Yobit Pumping Crazy Community™',\n",
       " 'u',\n",
       " '©Pumpin®Time™',\n",
       " '®Crypto Guru Bittrex Signals',\n",
       " 'قناة احساسيس ومشاعر',\n",
       " '⚔️Robin HOOD⚔️',\n",
       " '❤️Crypto Coinsultants❤️',\n",
       " '🌐 YoBit Pump Team 🌐',\n",
       " '🌟Super Pump Bros🌟',\n",
       " '💰Crypto Free Signals💰',\n",
       " '🔥 PumpMyWallet 🔥',\n",
       " '🚀DUTCH CRYPTO PUMPS!🚀',\n",
       " '🚀Ultra Pumps™',\n",
       " '🚨 Cryptopia Signal 🚨'}"
      ]
     },
     "execution_count": 21,
     "metadata": {},
     "output_type": "execute_result"
    }
   ],
   "source": [
    "channels_set"
   ]
  },
  {
   "cell_type": "code",
   "execution_count": 43,
   "metadata": {},
   "outputs": [
    {
     "data": {
      "text/plain": [
       "[<__main__.PumpDumpEvent at 0x7fa469714d50>,\n",
       " <__main__.PumpDumpEvent at 0x7fa469714f90>,\n",
       " <__main__.PumpDumpEvent at 0x7fa469714dd0>,\n",
       " <__main__.PumpDumpEvent at 0x7fa469714b10>,\n",
       " <__main__.PumpDumpEvent at 0x7fa4696bf110>,\n",
       " <__main__.PumpDumpEvent at 0x7fa4696bf210>,\n",
       " <__main__.PumpDumpEvent at 0x7fa4696bfed0>,\n",
       " <__main__.PumpDumpEvent at 0x7fa4696bfe10>,\n",
       " <__main__.PumpDumpEvent at 0x7fa4696bfd10>,\n",
       " <__main__.PumpDumpEvent at 0x7fa4696bf290>,\n",
       " <__main__.PumpDumpEvent at 0x7fa4696bf0d0>,\n",
       " <__main__.PumpDumpEvent at 0x7fa4696bf390>,\n",
       " <__main__.PumpDumpEvent at 0x7fa4696bfc50>,\n",
       " <__main__.PumpDumpEvent at 0x7fa4696bfcd0>,\n",
       " <__main__.PumpDumpEvent at 0x7fa4696bf410>,\n",
       " <__main__.PumpDumpEvent at 0x7fa4696bfb10>,\n",
       " <__main__.PumpDumpEvent at 0x7fa4696bfad0>,\n",
       " <__main__.PumpDumpEvent at 0x7fa4696bfdd0>,\n",
       " <__main__.PumpDumpEvent at 0x7fa4696bf9d0>,\n",
       " <__main__.PumpDumpEvent at 0x7fa4696bf2d0>,\n",
       " <__main__.PumpDumpEvent at 0x7fa4696bf910>,\n",
       " <__main__.PumpDumpEvent at 0x7fa4696bf8d0>,\n",
       " <__main__.PumpDumpEvent at 0x7fa4696bf750>,\n",
       " <__main__.PumpDumpEvent at 0x7fa4696bf810>,\n",
       " <__main__.PumpDumpEvent at 0x7fa4696bf5d0>,\n",
       " <__main__.PumpDumpEvent at 0x7fa4696bf610>,\n",
       " <__main__.PumpDumpEvent at 0x7fa4696bf6d0>,\n",
       " <__main__.PumpDumpEvent at 0x7fa4696bf250>,\n",
       " <__main__.PumpDumpEvent at 0x7fa4696bf190>,\n",
       " <__main__.PumpDumpEvent at 0x7fa4696bf090>,\n",
       " <__main__.PumpDumpEvent at 0x7fa4696bf950>,\n",
       " <__main__.PumpDumpEvent at 0x7fa4696c0050>,\n",
       " <__main__.PumpDumpEvent at 0x7fa4696c0150>,\n",
       " <__main__.PumpDumpEvent at 0x7fa4696c0250>,\n",
       " <__main__.PumpDumpEvent at 0x7fa4696c0110>,\n",
       " <__main__.PumpDumpEvent at 0x7fa4696c0390>,\n",
       " <__main__.PumpDumpEvent at 0x7fa4696c0410>,\n",
       " <__main__.PumpDumpEvent at 0x7fa4696c0490>,\n",
       " <__main__.PumpDumpEvent at 0x7fa4696c0510>,\n",
       " <__main__.PumpDumpEvent at 0x7fa4696c0590>,\n",
       " <__main__.PumpDumpEvent at 0x7fa4696c00d0>,\n",
       " <__main__.PumpDumpEvent at 0x7fa4696c06d0>,\n",
       " <__main__.PumpDumpEvent at 0x7fa4696c0750>,\n",
       " <__main__.PumpDumpEvent at 0x7fa4696c07d0>,\n",
       " <__main__.PumpDumpEvent at 0x7fa4696c0850>,\n",
       " <__main__.PumpDumpEvent at 0x7fa4696c08d0>,\n",
       " <__main__.PumpDumpEvent at 0x7fa4696c0950>,\n",
       " <__main__.PumpDumpEvent at 0x7fa4696c09d0>,\n",
       " <__main__.PumpDumpEvent at 0x7fa4696c0a50>,\n",
       " <__main__.PumpDumpEvent at 0x7fa4696c0ad0>,\n",
       " <__main__.PumpDumpEvent at 0x7fa4696c0090>,\n",
       " <__main__.PumpDumpEvent at 0x7fa4696c0c10>,\n",
       " <__main__.PumpDumpEvent at 0x7fa4696c0c90>,\n",
       " <__main__.PumpDumpEvent at 0x7fa4696c0bd0>,\n",
       " <__main__.PumpDumpEvent at 0x7fa4696c0d90>,\n",
       " <__main__.PumpDumpEvent at 0x7fa4696c0e90>,\n",
       " <__main__.PumpDumpEvent at 0x7fa4696c0f10>,\n",
       " <__main__.PumpDumpEvent at 0x7fa4696c0f90>,\n",
       " <__main__.PumpDumpEvent at 0x7fa4696c0350>,\n",
       " <__main__.PumpDumpEvent at 0x7fa4696c0690>,\n",
       " <__main__.PumpDumpEvent at 0x7fa46969e150>,\n",
       " <__main__.PumpDumpEvent at 0x7fa46969e110>,\n",
       " <__main__.PumpDumpEvent at 0x7fa46969e290>,\n",
       " <__main__.PumpDumpEvent at 0x7fa46969e310>,\n",
       " <__main__.PumpDumpEvent at 0x7fa46969e390>,\n",
       " <__main__.PumpDumpEvent at 0x7fa46969e0d0>,\n",
       " <__main__.PumpDumpEvent at 0x7fa46969e4d0>,\n",
       " <__main__.PumpDumpEvent at 0x7fa46969e550>,\n",
       " <__main__.PumpDumpEvent at 0x7fa46969e490>,\n",
       " <__main__.PumpDumpEvent at 0x7fa46969e690>,\n",
       " <__main__.PumpDumpEvent at 0x7fa46969e710>,\n",
       " <__main__.PumpDumpEvent at 0x7fa46969e650>,\n",
       " <__main__.PumpDumpEvent at 0x7fa46969e850>,\n",
       " <__main__.PumpDumpEvent at 0x7fa46969e8d0>,\n",
       " <__main__.PumpDumpEvent at 0x7fa46969e810>,\n",
       " <__main__.PumpDumpEvent at 0x7fa46969ea10>,\n",
       " <__main__.PumpDumpEvent at 0x7fa46969ea90>,\n",
       " <__main__.PumpDumpEvent at 0x7fa46969eb10>,\n",
       " <__main__.PumpDumpEvent at 0x7fa46969eb90>,\n",
       " <__main__.PumpDumpEvent at 0x7fa46969ec90>,\n",
       " <__main__.PumpDumpEvent at 0x7fa46969ed50>,\n",
       " <__main__.PumpDumpEvent at 0x7fa46969ee50>,\n",
       " <__main__.PumpDumpEvent at 0x7fa46969eed0>,\n",
       " <__main__.PumpDumpEvent at 0x7fa46969ee10>,\n",
       " <__main__.PumpDumpEvent at 0x7fa46969e9d0>,\n",
       " <__main__.PumpDumpEvent at 0x7fa46969ec10>,\n",
       " <__main__.PumpDumpEvent at 0x7fa4696ab110>,\n",
       " <__main__.PumpDumpEvent at 0x7fa4696ab210>,\n",
       " <__main__.PumpDumpEvent at 0x7fa4696ab290>,\n",
       " <__main__.PumpDumpEvent at 0x7fa4696ab310>,\n",
       " <__main__.PumpDumpEvent at 0x7fa4696ab390>,\n",
       " <__main__.PumpDumpEvent at 0x7fa4696ab410>,\n",
       " <__main__.PumpDumpEvent at 0x7fa4696ab490>,\n",
       " <__main__.PumpDumpEvent at 0x7fa4696ab510>,\n",
       " <__main__.PumpDumpEvent at 0x7fa4696ab0d0>,\n",
       " <__main__.PumpDumpEvent at 0x7fa4696ab650>,\n",
       " <__main__.PumpDumpEvent at 0x7fa4696ab6d0>,\n",
       " <__main__.PumpDumpEvent at 0x7fa4696ab750>,\n",
       " <__main__.PumpDumpEvent at 0x7fa4696ab7d0>,\n",
       " <__main__.PumpDumpEvent at 0x7fa4696ab850>,\n",
       " <__main__.PumpDumpEvent at 0x7fa4696ab8d0>,\n",
       " <__main__.PumpDumpEvent at 0x7fa4696ab610>,\n",
       " <__main__.PumpDumpEvent at 0x7fa4696aba10>,\n",
       " <__main__.PumpDumpEvent at 0x7fa4696aba90>,\n",
       " <__main__.PumpDumpEvent at 0x7fa4696abb10>,\n",
       " <__main__.PumpDumpEvent at 0x7fa4696abb90>,\n",
       " <__main__.PumpDumpEvent at 0x7fa4696ab9d0>,\n",
       " <__main__.PumpDumpEvent at 0x7fa4696abcd0>,\n",
       " <__main__.PumpDumpEvent at 0x7fa4696ab090>,\n",
       " <__main__.PumpDumpEvent at 0x7fa4696abe10>,\n",
       " <__main__.PumpDumpEvent at 0x7fa4696abe90>,\n",
       " <__main__.PumpDumpEvent at 0x7fa4696abf10>,\n",
       " <__main__.PumpDumpEvent at 0x7fa4696abf90>,\n",
       " <__main__.PumpDumpEvent at 0x7fa4696abc90>,\n",
       " <__main__.PumpDumpEvent at 0x7fa4696ab1d0>,\n",
       " <__main__.PumpDumpEvent at 0x7fa4696af090>,\n",
       " <__main__.PumpDumpEvent at 0x7fa4696af210>,\n",
       " <__main__.PumpDumpEvent at 0x7fa4696af290>,\n",
       " <__main__.PumpDumpEvent at 0x7fa4696af310>,\n",
       " <__main__.PumpDumpEvent at 0x7fa4696af390>,\n",
       " <__main__.PumpDumpEvent at 0x7fa4696af410>,\n",
       " <__main__.PumpDumpEvent at 0x7fa4696af490>,\n",
       " <__main__.PumpDumpEvent at 0x7fa4696af510>,\n",
       " <__main__.PumpDumpEvent at 0x7fa4696af590>,\n",
       " <__main__.PumpDumpEvent at 0x7fa4696af610>,\n",
       " <__main__.PumpDumpEvent at 0x7fa4696af690>,\n",
       " <__main__.PumpDumpEvent at 0x7fa4696af710>,\n",
       " <__main__.PumpDumpEvent at 0x7fa4696af790>,\n",
       " <__main__.PumpDumpEvent at 0x7fa4696af810>,\n",
       " <__main__.PumpDumpEvent at 0x7fa4696af890>,\n",
       " <__main__.PumpDumpEvent at 0x7fa4696af910>,\n",
       " <__main__.PumpDumpEvent at 0x7fa4696af990>,\n",
       " <__main__.PumpDumpEvent at 0x7fa4696af1d0>,\n",
       " <__main__.PumpDumpEvent at 0x7fa4696afad0>,\n",
       " <__main__.PumpDumpEvent at 0x7fa4696af110>,\n",
       " <__main__.PumpDumpEvent at 0x7fa4696afc10>,\n",
       " <__main__.PumpDumpEvent at 0x7fa4696afc90>,\n",
       " <__main__.PumpDumpEvent at 0x7fa4696afd10>,\n",
       " <__main__.PumpDumpEvent at 0x7fa4696af0d0>,\n",
       " <__main__.PumpDumpEvent at 0x7fa4696afe10>,\n",
       " <__main__.PumpDumpEvent at 0x7fa4696aff10>,\n",
       " <__main__.PumpDumpEvent at 0x7fa4696aff90>,\n",
       " <__main__.PumpDumpEvent at 0x7fa4696af050>,\n",
       " <__main__.PumpDumpEvent at 0x7fa4696afa90>,\n",
       " <__main__.PumpDumpEvent at 0x7fa4696b5150>,\n",
       " <__main__.PumpDumpEvent at 0x7fa4696b51d0>,\n",
       " <__main__.PumpDumpEvent at 0x7fa4696b5250>,\n",
       " <__main__.PumpDumpEvent at 0x7fa4696b52d0>,\n",
       " <__main__.PumpDumpEvent at 0x7fa4696b5090>,\n",
       " <__main__.PumpDumpEvent at 0x7fa4696b5410>,\n",
       " <__main__.PumpDumpEvent at 0x7fa4696b5490>,\n",
       " <__main__.PumpDumpEvent at 0x7fa4696b5510>,\n",
       " <__main__.PumpDumpEvent at 0x7fa4696b5590>,\n",
       " <__main__.PumpDumpEvent at 0x7fa4696b5610>,\n",
       " <__main__.PumpDumpEvent at 0x7fa4696b5050>,\n",
       " <__main__.PumpDumpEvent at 0x7fa4696b5750>,\n",
       " <__main__.PumpDumpEvent at 0x7fa4696b50d0>,\n",
       " <__main__.PumpDumpEvent at 0x7fa4696b5890>,\n",
       " <__main__.PumpDumpEvent at 0x7fa4696b5910>,\n",
       " <__main__.PumpDumpEvent at 0x7fa4696b5990>,\n",
       " <__main__.PumpDumpEvent at 0x7fa4696b5110>,\n",
       " <__main__.PumpDumpEvent at 0x7fa4696b5ad0>,\n",
       " <__main__.PumpDumpEvent at 0x7fa4696b5b50>,\n",
       " <__main__.PumpDumpEvent at 0x7fa4696b5bd0>,\n",
       " <__main__.PumpDumpEvent at 0x7fa4696b53d0>,\n",
       " <__main__.PumpDumpEvent at 0x7fa4696b5cd0>,\n",
       " <__main__.PumpDumpEvent at 0x7fa4696b5dd0>,\n",
       " <__main__.PumpDumpEvent at 0x7fa4696b5e50>,\n",
       " <__main__.PumpDumpEvent at 0x7fa4696b5ed0>,\n",
       " <__main__.PumpDumpEvent at 0x7fa4696b5f50>,\n",
       " <__main__.PumpDumpEvent at 0x7fa4696b5d90>,\n",
       " <__main__.PumpDumpEvent at 0x7fa4696b5850>,\n",
       " <__main__.PumpDumpEvent at 0x7fa4696bb050>,\n",
       " <__main__.PumpDumpEvent at 0x7fa4696bb190>,\n",
       " <__main__.PumpDumpEvent at 0x7fa4696bb090>,\n",
       " <__main__.PumpDumpEvent at 0x7fa4696bb290>,\n",
       " <__main__.PumpDumpEvent at 0x7fa4696bb350>,\n",
       " <__main__.PumpDumpEvent at 0x7fa4696bb410>,\n",
       " <__main__.PumpDumpEvent at 0x7fa4696bb4d0>,\n",
       " <__main__.PumpDumpEvent at 0x7fa4696bb5d0>,\n",
       " <__main__.PumpDumpEvent at 0x7fa4696bb650>,\n",
       " <__main__.PumpDumpEvent at 0x7fa4696bb6d0>,\n",
       " <__main__.PumpDumpEvent at 0x7fa4696bb750>,\n",
       " <__main__.PumpDumpEvent at 0x7fa4696bb590>,\n",
       " <__main__.PumpDumpEvent at 0x7fa4696bb850>,\n",
       " <__main__.PumpDumpEvent at 0x7fa4696bb950>,\n",
       " <__main__.PumpDumpEvent at 0x7fa4696bb9d0>,\n",
       " <__main__.PumpDumpEvent at 0x7fa4696bba50>,\n",
       " <__main__.PumpDumpEvent at 0x7fa4696bb0d0>,\n",
       " <__main__.PumpDumpEvent at 0x7fa4696bbb50>,\n",
       " <__main__.PumpDumpEvent at 0x7fa4696bbc10>,\n",
       " <__main__.PumpDumpEvent at 0x7fa4696bbd10>,\n",
       " <__main__.PumpDumpEvent at 0x7fa4696bb110>,\n",
       " <__main__.PumpDumpEvent at 0x7fa4696bbe10>,\n",
       " <__main__.PumpDumpEvent at 0x7fa4696bbf10>,\n",
       " <__main__.PumpDumpEvent at 0x7fa4696bbf90>,\n",
       " <__main__.PumpDumpEvent at 0x7fa4696bb150>,\n",
       " <__main__.PumpDumpEvent at 0x7fa4696c3110>,\n",
       " <__main__.PumpDumpEvent at 0x7fa4696c3150>,\n",
       " <__main__.PumpDumpEvent at 0x7fa4696c3250>,\n",
       " <__main__.PumpDumpEvent at 0x7fa4696c32d0>,\n",
       " <__main__.PumpDumpEvent at 0x7fa4696c3210>,\n",
       " <__main__.PumpDumpEvent at 0x7fa4696c3410>,\n",
       " <__main__.PumpDumpEvent at 0x7fa4696c30d0>,\n",
       " <__main__.PumpDumpEvent at 0x7fa4696c3550>,\n",
       " <__main__.PumpDumpEvent at 0x7fa4696c35d0>,\n",
       " <__main__.PumpDumpEvent at 0x7fa4696c3650>,\n",
       " <__main__.PumpDumpEvent at 0x7fa4696c36d0>,\n",
       " <__main__.PumpDumpEvent at 0x7fa4696c3750>,\n",
       " <__main__.PumpDumpEvent at 0x7fa4696c37d0>,\n",
       " <__main__.PumpDumpEvent at 0x7fa4696c3850>,\n",
       " <__main__.PumpDumpEvent at 0x7fa4696c3090>,\n",
       " <__main__.PumpDumpEvent at 0x7fa4696c3950>,\n",
       " <__main__.PumpDumpEvent at 0x7fa4696c3a50>,\n",
       " <__main__.PumpDumpEvent at 0x7fa4696c3ad0>,\n",
       " <__main__.PumpDumpEvent at 0x7fa4696c3b50>,\n",
       " <__main__.PumpDumpEvent at 0x7fa4696c3510>,\n",
       " <__main__.PumpDumpEvent at 0x7fa4696c3a10>,\n",
       " <__main__.PumpDumpEvent at 0x7fa4696c3cd0>,\n",
       " <__main__.PumpDumpEvent at 0x7fa4696c3dd0>,\n",
       " <__main__.PumpDumpEvent at 0x7fa4696c3bd0>,\n",
       " <__main__.PumpDumpEvent at 0x7fa4696c3f10>,\n",
       " <__main__.PumpDumpEvent at 0x7fa4696c33d0>,\n",
       " <__main__.PumpDumpEvent at 0x7fa4696c3d90>,\n",
       " <__main__.PumpDumpEvent at 0x7fa4696c7150>,\n",
       " <__main__.PumpDumpEvent at 0x7fa4696c7190>,\n",
       " <__main__.PumpDumpEvent at 0x7fa4696c7210>,\n",
       " <__main__.PumpDumpEvent at 0x7fa4696c7290>,\n",
       " <__main__.PumpDumpEvent at 0x7fa4696c7110>,\n",
       " <__main__.PumpDumpEvent at 0x7fa4696c73d0>,\n",
       " <__main__.PumpDumpEvent at 0x7fa4696c7050>,\n",
       " <__main__.PumpDumpEvent at 0x7fa4696c74d0>,\n",
       " <__main__.PumpDumpEvent at 0x7fa4696c7590>,\n",
       " <__main__.PumpDumpEvent at 0x7fa4696c7690>,\n",
       " <__main__.PumpDumpEvent at 0x7fa4696c7090>,\n",
       " <__main__.PumpDumpEvent at 0x7fa4696c77d0>,\n",
       " <__main__.PumpDumpEvent at 0x7fa4696c70d0>,\n",
       " <__main__.PumpDumpEvent at 0x7fa4696c7910>,\n",
       " <__main__.PumpDumpEvent at 0x7fa4696c7990>,\n",
       " <__main__.PumpDumpEvent at 0x7fa4696c78d0>,\n",
       " <__main__.PumpDumpEvent at 0x7fa4696c7ad0>,\n",
       " <__main__.PumpDumpEvent at 0x7fa4696c7b50>,\n",
       " <__main__.PumpDumpEvent at 0x7fa4696c7bd0>,\n",
       " <__main__.PumpDumpEvent at 0x7fa4696c7c50>,\n",
       " <__main__.PumpDumpEvent at 0x7fa4696c7a90>,\n",
       " <__main__.PumpDumpEvent at 0x7fa4696c7d50>,\n",
       " <__main__.PumpDumpEvent at 0x7fa4696c7e10>,\n",
       " <__main__.PumpDumpEvent at 0x7fa4696c7ed0>,\n",
       " <__main__.PumpDumpEvent at 0x7fa4696c7f90>,\n",
       " <__main__.PumpDumpEvent at 0x7fa4696c7390>,\n",
       " <__main__.PumpDumpEvent at 0x7fa4696cb150>,\n",
       " <__main__.PumpDumpEvent at 0x7fa4696cb1d0>,\n",
       " <__main__.PumpDumpEvent at 0x7fa4696cb250>,\n",
       " <__main__.PumpDumpEvent at 0x7fa4696cb050>,\n",
       " <__main__.PumpDumpEvent at 0x7fa4696cb390>,\n",
       " <__main__.PumpDumpEvent at 0x7fa4696cb090>,\n",
       " <__main__.PumpDumpEvent at 0x7fa4696cb490>,\n",
       " <__main__.PumpDumpEvent at 0x7fa4696cb550>,\n",
       " <__main__.PumpDumpEvent at 0x7fa4696cb350>,\n",
       " <__main__.PumpDumpEvent at 0x7fa4696cb690>,\n",
       " <__main__.PumpDumpEvent at 0x7fa4696cb790>,\n",
       " <__main__.PumpDumpEvent at 0x7fa4696cb590>,\n",
       " <__main__.PumpDumpEvent at 0x7fa4696cb8d0>,\n",
       " <__main__.PumpDumpEvent at 0x7fa4696cb0d0>,\n",
       " <__main__.PumpDumpEvent at 0x7fa4696cba10>,\n",
       " <__main__.PumpDumpEvent at 0x7fa4696cba90>,\n",
       " <__main__.PumpDumpEvent at 0x7fa4696cbb10>,\n",
       " <__main__.PumpDumpEvent at 0x7fa4696cbb90>,\n",
       " <__main__.PumpDumpEvent at 0x7fa4696cb9d0>,\n",
       " <__main__.PumpDumpEvent at 0x7fa4696cbcd0>,\n",
       " <__main__.PumpDumpEvent at 0x7fa4696cb890>,\n",
       " <__main__.PumpDumpEvent at 0x7fa4696cbe10>,\n",
       " <__main__.PumpDumpEvent at 0x7fa4696cbe90>,\n",
       " <__main__.PumpDumpEvent at 0x7fa4696cbf10>,\n",
       " <__main__.PumpDumpEvent at 0x7fa4696cbf90>,\n",
       " <__main__.PumpDumpEvent at 0x7fa4696cbc90>,\n",
       " <__main__.PumpDumpEvent at 0x7fa4696cf110>,\n",
       " <__main__.PumpDumpEvent at 0x7fa4696cf190>,\n",
       " <__main__.PumpDumpEvent at 0x7fa4696cf0d0>,\n",
       " <__main__.PumpDumpEvent at 0x7fa4696cf2d0>,\n",
       " <__main__.PumpDumpEvent at 0x7fa4696cf050>,\n",
       " <__main__.PumpDumpEvent at 0x7fa4696cf410>,\n",
       " <__main__.PumpDumpEvent at 0x7fa4696cf490>,\n",
       " <__main__.PumpDumpEvent at 0x7fa4696cf3d0>,\n",
       " <__main__.PumpDumpEvent at 0x7fa4696cf5d0>,\n",
       " <__main__.PumpDumpEvent at 0x7fa4696cf290>,\n",
       " <__main__.PumpDumpEvent at 0x7fa4696cf710>,\n",
       " <__main__.PumpDumpEvent at 0x7fa4696cf790>,\n",
       " <__main__.PumpDumpEvent at 0x7fa4696cf6d0>,\n",
       " <__main__.PumpDumpEvent at 0x7fa4696cf8d0>,\n",
       " <__main__.PumpDumpEvent at 0x7fa4696cf950>,\n",
       " <__main__.PumpDumpEvent at 0x7fa4696cf9d0>,\n",
       " <__main__.PumpDumpEvent at 0x7fa4696cf590>,\n",
       " <__main__.PumpDumpEvent at 0x7fa4696cfad0>,\n",
       " <__main__.PumpDumpEvent at 0x7fa4696cfb90>,\n",
       " <__main__.PumpDumpEvent at 0x7fa4696cfc90>,\n",
       " <__main__.PumpDumpEvent at 0x7fa469706ed0>,\n",
       " <__main__.PumpDumpEvent at 0x7fa49c1f2b10>,\n",
       " <__main__.PumpDumpEvent at 0x7fa49c1f2750>,\n",
       " <__main__.PumpDumpEvent at 0x7fa49c1f2f10>,\n",
       " <__main__.PumpDumpEvent at 0x7fa49d304e50>,\n",
       " <__main__.PumpDumpEvent at 0x7fa49c1f2f90>,\n",
       " <__main__.PumpDumpEvent at 0x7fa469714a90>,\n",
       " <__main__.PumpDumpEvent at 0x7fa469714510>,\n",
       " <__main__.PumpDumpEvent at 0x7fa469714a10>,\n",
       " <__main__.PumpDumpEvent at 0x7fa46970bf90>,\n",
       " <__main__.PumpDumpEvent at 0x7fa46970bf10>,\n",
       " <__main__.PumpDumpEvent at 0x7fa4696cf890>,\n",
       " <__main__.PumpDumpEvent at 0x7fa4696cfd10>,\n",
       " <__main__.PumpDumpEvent at 0x7fa4696cfe10>,\n",
       " <__main__.PumpDumpEvent at 0x7fa4696cfe90>,\n",
       " <__main__.PumpDumpEvent at 0x7fa4696cff10>,\n",
       " <__main__.PumpDumpEvent at 0x7fa4696cff90>,\n",
       " <__main__.PumpDumpEvent at 0x7fa4696cf150>,\n",
       " <__main__.PumpDumpEvent at 0x7fa4696d2110>,\n",
       " <__main__.PumpDumpEvent at 0x7fa4696d2150>,\n",
       " <__main__.PumpDumpEvent at 0x7fa4696d2250>,\n",
       " <__main__.PumpDumpEvent at 0x7fa4696d2090>,\n",
       " <__main__.PumpDumpEvent at 0x7fa4696d2390>,\n",
       " <__main__.PumpDumpEvent at 0x7fa4696d2410>,\n",
       " <__main__.PumpDumpEvent at 0x7fa4696d2350>,\n",
       " <__main__.PumpDumpEvent at 0x7fa4696d2510>,\n",
       " <__main__.PumpDumpEvent at 0x7fa4696d25d0>,\n",
       " <__main__.PumpDumpEvent at 0x7fa4696d26d0>,\n",
       " <__main__.PumpDumpEvent at 0x7fa4696d2750>,\n",
       " <__main__.PumpDumpEvent at 0x7fa4696d27d0>,\n",
       " <__main__.PumpDumpEvent at 0x7fa4696d2850>,\n",
       " <__main__.PumpDumpEvent at 0x7fa4696d2690>,\n",
       " <__main__.PumpDumpEvent at 0x7fa4696d2950>,\n",
       " <__main__.PumpDumpEvent at 0x7fa4696d2a50>]"
      ]
     },
     "execution_count": 43,
     "metadata": {},
     "output_type": "execute_result"
    }
   ],
   "source": [
    "pump_n_dumps"
   ]
  },
  {
   "cell_type": "code",
   "execution_count": 45,
   "metadata": {},
   "outputs": [],
   "source": [
    "channels_cnt_dict = dict()\n",
    "\n",
    "for pd in pump_n_dumps:\n",
    "    ch = pd.channel\n",
    "    if ch in channels_cnt_dict.keys():\n",
    "        channels_cnt_dict[ch] += 1\n",
    "    else:\n",
    "        channels_cnt_dict[ch] = 1"
   ]
  },
  {
   "cell_type": "code",
   "execution_count": 37,
   "metadata": {},
   "outputs": [],
   "source": [
    "channels_dict = dict()\n",
    "\n",
    "for pd in pump_n_dumps:\n",
    "    ch = pd.channel\n",
    "    if ch in channels_dict.keys():\n",
    "        channels_dict[ch].append(pd)\n",
    "    else:\n",
    "        channels_dict[ch] = [pd]"
   ]
  },
  {
   "cell_type": "code",
   "execution_count": 38,
   "metadata": {},
   "outputs": [],
   "source": [
    "import collections\n",
    "import operator\n"
   ]
  },
  {
   "cell_type": "code",
   "execution_count": 46,
   "metadata": {},
   "outputs": [
    {
     "data": {
      "text/plain": [
       "{'Crypto Market Signalz': 1,\n",
       " 'Bitcoin Pump Group': 7,\n",
       " '🚀Ultra Pumps™': 5,\n",
       " 'Crypto Pumpers': 3,\n",
       " 'Trading Crypto Coach®': 1,\n",
       " 'Biggest Pumps': 1,\n",
       " 'Palm Venice Beach': 8,\n",
       " 'Whales Crypto Guide': 6,\n",
       " 'Mega Pump Group': 10,\n",
       " 'Crypto trading. ™': 7,\n",
       " 'Yobit Pumping Crazy Community™': 10,\n",
       " 'Optimus Pump': 4,\n",
       " 'Crypto Experts Signal®': 1,\n",
       " '💰Crypto Free Signals💰': 3,\n",
       " '©Pumpin®Time™': 2,\n",
       " 'Moon Pump™': 1,\n",
       " 'Crypto Pump Island': 45,\n",
       " 'Binance Profit Signal': 6,\n",
       " 'Official McAfee Pump Signals™': 1,\n",
       " 'DA PUMP': 1,\n",
       " 'BTTM ®': 2,\n",
       " '®Crypto Guru Bittrex Signals': 2,\n",
       " 'u': 4,\n",
       " 'Crypto Coins (Ƀ)': 5,\n",
       " 'CAMP(Crypto Analysis & Market Prediction)': 9,\n",
       " 'Big Pump channel': 2,\n",
       " 'Donald Pump': 17,\n",
       " 'Big Pump Signal®': 6,\n",
       " 'Kênh cập nhật chiến lược giao dịch alt coin': 1,\n",
       " 'Off': 6,\n",
       " 'Super Pumps & Signal Kings': 14,\n",
       " 'Signals Lion': 9,\n",
       " 'Crypto Vip signal™': 1,\n",
       " 'قناة احساسيس ومشاعر': 2,\n",
       " 'Crypto Rocket ®': 4,\n",
       " 'US pump signals': 1,\n",
       " 'LEAK Signal': 2,\n",
       " '🚨 Cryptopia Signal 🚨': 4,\n",
       " 'Mega Pumps': 1,\n",
       " 'Rocket BINANCE Pump 🚀': 6,\n",
       " 'BigPumpGroup.com': 1,\n",
       " 'Crypto Signals & Pumps': 3,\n",
       " 'OSNOVA PUMP': 1,\n",
       " '🌟Super Pump Bros🌟': 1,\n",
       " 'CRYPTO BLACK 🇰🇷': 1,\n",
       " 'Signal Plug 📊🔌': 1,\n",
       " 'Crypto Bulls Pump ®🥇': 4,\n",
       " 'CryptoMoon Pumps': 3,\n",
       " 'Shark Pump Signals': 9,\n",
       " '⚔️Robin HOOD⚔️': 4,\n",
       " 'Inner Signals Circle - BITTREX / UPBIT (비트렉스,업비트)': 1,\n",
       " 'MassivePump': 20,\n",
       " 'Big Pump Signal': 5,\n",
       " 'Bomba bitcoin \"cryptopia\"': 4,\n",
       " 'John McAfee Yobit Pump': 1,\n",
       " '🚀DUTCH CRYPTO PUMPS!🚀': 1,\n",
       " '❤️Crypto Coinsultants❤️': 4,\n",
       " 'Opop': 5,\n",
       " 'Dynamic Signals': 1,\n",
       " '🌐 YoBit Pump Team 🌐': 1,\n",
       " \"Pump'N'Pump\": 3,\n",
       " 'Signalsgram': 1,\n",
       " 'Big Crypto Pump': 1,\n",
       " 'Pump Signals': 1,\n",
       " 'PUMP OFFICIAL CRYPTO': 1,\n",
       " 'OFFICIAL SIGNAL EXPERT®': 1,\n",
       " 'Central Pumps': 2,\n",
       " 'Bitcoin Pump Signal ™': 10,\n",
       " 'McAfee Alt Signals™': 2,\n",
       " 'Crypto Whales™': 2,\n",
       " 'The Crypto Analyst': 2,\n",
       " 'BIG PUMP SIGNAL': 1,\n",
       " 'Big signal': 2,\n",
       " 'Crypto Mega Pumps Yobit': 1,\n",
       " 'Tornado Signals': 3,\n",
       " 'Pump Up': 1,\n",
       " 'YoBit Pumps': 2,\n",
       " 'Bitmex Pro Signals': 1,\n",
       " '🔥 PumpMyWallet 🔥': 1}"
      ]
     },
     "execution_count": 46,
     "metadata": {},
     "output_type": "execute_result"
    }
   ],
   "source": [
    "channels_cnt_dict"
   ]
  },
  {
   "cell_type": "code",
   "execution_count": 47,
   "metadata": {},
   "outputs": [],
   "source": [
    "sorted_x = sorted(channels_cnt_dict.items(), key=operator.itemgetter(1))"
   ]
  },
  {
   "cell_type": "code",
   "execution_count": 48,
   "metadata": {},
   "outputs": [
    {
     "data": {
      "text/plain": [
       "79"
      ]
     },
     "execution_count": 48,
     "metadata": {},
     "output_type": "execute_result"
    }
   ],
   "source": [
    "len(sorted_x)"
   ]
  },
  {
   "cell_type": "code",
   "execution_count": 49,
   "metadata": {},
   "outputs": [
    {
     "data": {
      "text/plain": [
       "330"
      ]
     },
     "execution_count": 49,
     "metadata": {},
     "output_type": "execute_result"
    }
   ],
   "source": [
    "len(pump_n_dumps)"
   ]
  },
  {
   "cell_type": "code",
   "execution_count": 50,
   "metadata": {},
   "outputs": [
    {
     "data": {
      "text/plain": [
       "[('Crypto Market Signalz', 1),\n",
       " ('Trading Crypto Coach®', 1),\n",
       " ('Biggest Pumps', 1),\n",
       " ('Crypto Experts Signal®', 1),\n",
       " ('Moon Pump™', 1),\n",
       " ('Official McAfee Pump Signals™', 1),\n",
       " ('DA PUMP', 1),\n",
       " ('Kênh cập nhật chiến lược giao dịch alt coin', 1),\n",
       " ('Crypto Vip signal™', 1),\n",
       " ('US pump signals', 1),\n",
       " ('Mega Pumps', 1),\n",
       " ('BigPumpGroup.com', 1),\n",
       " ('OSNOVA PUMP', 1),\n",
       " ('🌟Super Pump Bros🌟', 1),\n",
       " ('CRYPTO BLACK 🇰🇷', 1),\n",
       " ('Signal Plug 📊🔌', 1),\n",
       " ('Inner Signals Circle - BITTREX / UPBIT (비트렉스,업비트)', 1),\n",
       " ('John McAfee Yobit Pump', 1),\n",
       " ('🚀DUTCH CRYPTO PUMPS!🚀', 1),\n",
       " ('Dynamic Signals', 1),\n",
       " ('🌐 YoBit Pump Team 🌐', 1),\n",
       " ('Signalsgram', 1),\n",
       " ('Big Crypto Pump', 1),\n",
       " ('Pump Signals', 1),\n",
       " ('PUMP OFFICIAL CRYPTO', 1),\n",
       " ('OFFICIAL SIGNAL EXPERT®', 1),\n",
       " ('BIG PUMP SIGNAL', 1),\n",
       " ('Crypto Mega Pumps Yobit', 1),\n",
       " ('Pump Up', 1),\n",
       " ('Bitmex Pro Signals', 1),\n",
       " ('🔥 PumpMyWallet 🔥', 1),\n",
       " ('©Pumpin®Time™', 2),\n",
       " ('BTTM ®', 2),\n",
       " ('®Crypto Guru Bittrex Signals', 2),\n",
       " ('Big Pump channel', 2),\n",
       " ('قناة احساسيس ومشاعر', 2),\n",
       " ('LEAK Signal', 2),\n",
       " ('Central Pumps', 2),\n",
       " ('McAfee Alt Signals™', 2),\n",
       " ('Crypto Whales™', 2),\n",
       " ('The Crypto Analyst', 2),\n",
       " ('Big signal', 2),\n",
       " ('YoBit Pumps', 2),\n",
       " ('Crypto Pumpers', 3),\n",
       " ('💰Crypto Free Signals💰', 3),\n",
       " ('Crypto Signals & Pumps', 3),\n",
       " ('CryptoMoon Pumps', 3),\n",
       " (\"Pump'N'Pump\", 3),\n",
       " ('Tornado Signals', 3),\n",
       " ('Optimus Pump', 4),\n",
       " ('u', 4),\n",
       " ('Crypto Rocket ®', 4),\n",
       " ('🚨 Cryptopia Signal 🚨', 4),\n",
       " ('Crypto Bulls Pump ®🥇', 4),\n",
       " ('⚔️Robin HOOD⚔️', 4),\n",
       " ('Bomba bitcoin \"cryptopia\"', 4),\n",
       " ('❤️Crypto Coinsultants❤️', 4),\n",
       " ('🚀Ultra Pumps™', 5),\n",
       " ('Crypto Coins (Ƀ)', 5),\n",
       " ('Big Pump Signal', 5),\n",
       " ('Opop', 5),\n",
       " ('Whales Crypto Guide', 6),\n",
       " ('Binance Profit Signal', 6),\n",
       " ('Big Pump Signal®', 6),\n",
       " ('Off', 6),\n",
       " ('Rocket BINANCE Pump 🚀', 6),\n",
       " ('Bitcoin Pump Group', 7),\n",
       " ('Crypto trading. ™', 7),\n",
       " ('Palm Venice Beach', 8),\n",
       " ('CAMP(Crypto Analysis & Market Prediction)', 9),\n",
       " ('Signals Lion', 9),\n",
       " ('Shark Pump Signals', 9),\n",
       " ('Mega Pump Group', 10),\n",
       " ('Yobit Pumping Crazy Community™', 10),\n",
       " ('Bitcoin Pump Signal ™', 10),\n",
       " ('Super Pumps & Signal Kings', 14),\n",
       " ('Donald Pump', 17),\n",
       " ('MassivePump', 20),\n",
       " ('Crypto Pump Island', 45)]"
      ]
     },
     "execution_count": 50,
     "metadata": {},
     "output_type": "execute_result"
    }
   ],
   "source": [
    "sorted_x"
   ]
  },
  {
   "cell_type": "code",
   "execution_count": 132,
   "metadata": {},
   "outputs": [],
   "source": [
    "sec_most_Pop_Ch_pum_n_dumps = [p for p in pump_n_dumps if p.channel == 'MassivePump']"
   ]
  },
  {
   "cell_type": "code",
   "execution_count": 51,
   "metadata": {},
   "outputs": [],
   "source": [
    "most_Pop_Ch_pum_n_dumps = [p for p in pump_n_dumps if p.channel == 'Crypto Pump Island']"
   ]
  },
  {
   "cell_type": "code",
   "execution_count": 144,
   "metadata": {},
   "outputs": [
    {
     "name": "stdout",
     "output_type": "stream",
     "text": [
      "Coin name: ALIS Datetime: 2018-10-27 17:01:09 Channel: MassivePump Open price: 9.17e-06 Close price: 8.75e-06 High price: 1.25e-05 Pump gain percentage: 36.31 Dump loss percentage: -30.0\n",
      "\n",
      "\n",
      "Coin name: FRN Datetime: 2018-10-05 17:00:27 Channel: MassivePump Open price: 8.3e-07 Close price: 7.7e-07 High price: 1.8e-06 Pump gain percentage: 116.87 Dump loss percentage: -57.22\n",
      "\n",
      "\n",
      "Coin name: FRN Datetime: 2018-10-05 17:00:22 Channel: MassivePump Open price: 8.3e-07 Close price: 7.7e-07 High price: 1.8e-06 Pump gain percentage: 116.87 Dump loss percentage: -57.22\n",
      "\n",
      "\n",
      "Coin name: XPTX Datetime: 2018-09-29 17:00:16 Channel: MassivePump Open price: 3.7e-05 Close price: 4.108e-05 High price: 9e-05 Pump gain percentage: 143.24 Dump loss percentage: -54.36\n",
      "\n",
      "\n",
      "Coin name: FIRE Datetime: 2018-09-28 17:00:26 Channel: MassivePump Open price: 8.9e-05 Close price: 7.5e-05 High price: 0.0001894 Pump gain percentage: 112.81 Dump loss percentage: -60.4\n",
      "\n",
      "\n",
      "Coin name: XPRO Datetime: 2018-09-27 17:00:00 Channel: MassivePump Open price: 9.2e-07 Close price: 8.8e-07 High price: 2.58e-06 Pump gain percentage: 180.43 Dump loss percentage: -65.89\n",
      "\n",
      "\n",
      "Coin name: ALIS Datetime: 2018-09-19 17:00:08 Channel: MassivePump Open price: 6e-06 Close price: 5.7e-06 High price: 1.495e-05 Pump gain percentage: 149.17 Dump loss percentage: -61.87\n",
      "\n",
      "\n",
      "Coin name: XMG Datetime: 2018-09-18 16:00:24 Channel: MassivePump Open price: 9.04e-06 Close price: 9.79e-06 High price: 2.36e-05 Pump gain percentage: 161.06 Dump loss percentage: -58.52\n",
      "\n",
      "\n",
      "Coin name: EQT Datetime: 2018-09-16 16:00:25 Channel: MassivePump Open price: 1.061e-05 Close price: 1.1e-05 High price: 4.841e-05 Pump gain percentage: 356.27 Dump loss percentage: -77.28\n",
      "\n",
      "\n",
      "Coin name: SEL Datetime: 2018-09-15 16:00:12 Channel: MassivePump Open price: 2.107e-05 Close price: 5.999e-05 High price: 8.98e-05 Pump gain percentage: 326.2 Dump loss percentage: -33.2\n",
      "\n",
      "\n",
      "Coin name: SBIT Datetime: 2018-09-13 16:00:13 Channel: MassivePump Open price: 3.52e-06 Close price: 3.12e-06 High price: 9.41e-06 Pump gain percentage: 167.33 Dump loss percentage: -66.84\n",
      "\n",
      "\n",
      "Coin name: BEEZ Datetime: 2018-09-11 17:00:21 Channel: MassivePump Open price: 2e-07 Close price: 1.9e-07 High price: 6.3e-07 Pump gain percentage: 215.0 Dump loss percentage: -69.84\n",
      "\n",
      "\n",
      "Coin name: PARTY Datetime: 2018-09-08 17:00:10 Channel: MassivePump Open price: 1.5e-07 Close price: 1.7e-07 High price: 9.5e-07 Pump gain percentage: 533.33 Dump loss percentage: -82.11\n",
      "\n",
      "\n",
      "Coin name: UNITS Datetime: 2018-09-07 17:00:19 Channel: MassivePump Open price: 3.29e-06 Close price: 5.09e-06 High price: 9.95e-06 Pump gain percentage: 202.43 Dump loss percentage: -48.84\n",
      "\n",
      "\n",
      "Coin name: EMP Datetime: 2018-09-06 17:00:16 Channel: MassivePump Open price: 4.6e-07 Close price: 3.1e-07 High price: 1.18e-06 Pump gain percentage: 156.52 Dump loss percentage: -73.73\n",
      "\n",
      "\n",
      "Coin name: TUSD Datetime: 2018-09-01 17:00:43 Channel: MassivePump Open price: 0.0001436 Close price: 0.0001334 High price: 0.00037 Pump gain percentage: 157.66 Dump loss percentage: -63.95\n",
      "\n",
      "\n",
      "Coin name: MNZ Datetime: 2018-08-22 17:00:08 Channel: MassivePump Open price: 1.14e-05 Close price: 9e-06 High price: 3.9e-05 Pump gain percentage: 242.11 Dump loss percentage: -76.92\n",
      "\n",
      "\n",
      "Coin name: LOOM Datetime: 2018-08-21 16:01:13 Channel: MassivePump Open price: 1.253e-05 Close price: 1.25e-05 High price: 4.999e-05 Pump gain percentage: 298.96 Dump loss percentage: -74.99\n",
      "\n",
      "\n",
      "Coin name: HAC Datetime: 2018-08-17 16:01:45 Channel: MassivePump Open price: 1.06e-06 Close price: 5.4e-07 High price: 2.77e-06 Pump gain percentage: 161.32 Dump loss percentage: -80.51\n",
      "\n",
      "\n",
      "Coin name: HDG Datetime: 2018-08-12 15:59:53 Channel: MassivePump Open price: 0.0001099 Close price: 0.00013 High price: 0.0005555 Pump gain percentage: 405.46 Dump loss percentage: -76.6\n",
      "\n",
      "\n"
     ]
    }
   ],
   "source": [
    "for p in sec_most_Pop_Ch_pum_n_dumps:\n",
    "    p.print()\n",
    "    print(\"\\n\")"
   ]
  },
  {
   "cell_type": "code",
   "execution_count": 140,
   "metadata": {},
   "outputs": [],
   "source": [
    "sec_most_Pop_Ch_pum_n_dumps.sort(key=lambda x:x.datetime, reverse=True)"
   ]
  },
  {
   "cell_type": "code",
   "execution_count": 139,
   "metadata": {},
   "outputs": [],
   "source": [
    "most_Pop_Ch_pum_n_dumps.sort(key=lambda x:x.datetime, reverse=True)"
   ]
  },
  {
   "cell_type": "code",
   "execution_count": 153,
   "metadata": {},
   "outputs": [],
   "source": [
    "start = datetime.datetime.strptime('2018-08-01', \"%Y-%m-%d\").date()\n",
    "end = datetime.datetime.strptime('2018-10-31', \"%Y-%m-%d\").date()"
   ]
  },
  {
   "cell_type": "code",
   "execution_count": 154,
   "metadata": {},
   "outputs": [],
   "source": [
    "sec_short_sorted_ts = {k for k in sec_most_Pop_Ch_pum_n_dumps if k.datetime.date()> start and k.datetime.date() < end}"
   ]
  },
  {
   "cell_type": "code",
   "execution_count": 155,
   "metadata": {},
   "outputs": [
    {
     "data": {
      "text/plain": [
       "[<__main__.PumpDumpEvent at 0x7fa4696afd10>,\n",
       " <__main__.PumpDumpEvent at 0x7fa4696bb350>,\n",
       " <__main__.PumpDumpEvent at 0x7fa4696bb410>,\n",
       " <__main__.PumpDumpEvent at 0x7fa4696bb0d0>,\n",
       " <__main__.PumpDumpEvent at 0x7fa4696bbd10>,\n",
       " <__main__.PumpDumpEvent at 0x7fa4696bb110>,\n",
       " <__main__.PumpDumpEvent at 0x7fa4696c3850>,\n",
       " <__main__.PumpDumpEvent at 0x7fa4696c3090>,\n",
       " <__main__.PumpDumpEvent at 0x7fa4696c3510>,\n",
       " <__main__.PumpDumpEvent at 0x7fa4696c3a10>,\n",
       " <__main__.PumpDumpEvent at 0x7fa4696c3dd0>,\n",
       " <__main__.PumpDumpEvent at 0x7fa4696c3f10>,\n",
       " <__main__.PumpDumpEvent at 0x7fa4696c73d0>,\n",
       " <__main__.PumpDumpEvent at 0x7fa4696c74d0>,\n",
       " <__main__.PumpDumpEvent at 0x7fa4696c7690>,\n",
       " <__main__.PumpDumpEvent at 0x7fa4696c7a90>,\n",
       " <__main__.PumpDumpEvent at 0x7fa4696cb390>,\n",
       " <__main__.PumpDumpEvent at 0x7fa4696cb090>,\n",
       " <__main__.PumpDumpEvent at 0x7fa4696cb350>,\n",
       " <__main__.PumpDumpEvent at 0x7fa4696cbb90>]"
      ]
     },
     "execution_count": 155,
     "metadata": {},
     "output_type": "execute_result"
    }
   ],
   "source": [
    "sec_most_Pop_Ch_pum_n_dumps"
   ]
  },
  {
   "cell_type": "code",
   "execution_count": 156,
   "metadata": {},
   "outputs": [
    {
     "data": {
      "text/plain": [
       "{<__main__.PumpDumpEvent at 0x7fa4696afd10>,\n",
       " <__main__.PumpDumpEvent at 0x7fa4696bb0d0>,\n",
       " <__main__.PumpDumpEvent at 0x7fa4696bb110>,\n",
       " <__main__.PumpDumpEvent at 0x7fa4696bb350>,\n",
       " <__main__.PumpDumpEvent at 0x7fa4696bb410>,\n",
       " <__main__.PumpDumpEvent at 0x7fa4696bbd10>,\n",
       " <__main__.PumpDumpEvent at 0x7fa4696c3090>,\n",
       " <__main__.PumpDumpEvent at 0x7fa4696c3510>,\n",
       " <__main__.PumpDumpEvent at 0x7fa4696c3850>,\n",
       " <__main__.PumpDumpEvent at 0x7fa4696c3a10>,\n",
       " <__main__.PumpDumpEvent at 0x7fa4696c3dd0>,\n",
       " <__main__.PumpDumpEvent at 0x7fa4696c3f10>,\n",
       " <__main__.PumpDumpEvent at 0x7fa4696c73d0>,\n",
       " <__main__.PumpDumpEvent at 0x7fa4696c74d0>,\n",
       " <__main__.PumpDumpEvent at 0x7fa4696c7690>,\n",
       " <__main__.PumpDumpEvent at 0x7fa4696c7a90>,\n",
       " <__main__.PumpDumpEvent at 0x7fa4696cb090>,\n",
       " <__main__.PumpDumpEvent at 0x7fa4696cb350>,\n",
       " <__main__.PumpDumpEvent at 0x7fa4696cb390>,\n",
       " <__main__.PumpDumpEvent at 0x7fa4696cbb90>}"
      ]
     },
     "execution_count": 156,
     "metadata": {},
     "output_type": "execute_result"
    }
   ],
   "source": [
    "sec_short_sorted_ts"
   ]
  },
  {
   "cell_type": "code",
   "execution_count": 64,
   "metadata": {},
   "outputs": [],
   "source": [
    "short_sorted_ts = {k for k in most_Pop_Ch_pum_n_dumps if k.datetime.date()> start and k.datetime.date() < end}"
   ]
  },
  {
   "cell_type": "code",
   "execution_count": 136,
   "metadata": {},
   "outputs": [],
   "source": [
    "for p in sec_short_sorted_ts:\n",
    "    p.print()\n",
    "    print(\"\\n\")"
   ]
  },
  {
   "cell_type": "code",
   "execution_count": 157,
   "metadata": {},
   "outputs": [],
   "source": [
    "delta = end - start"
   ]
  },
  {
   "cell_type": "code",
   "execution_count": 111,
   "metadata": {},
   "outputs": [
    {
     "data": {
      "text/plain": [
       "datetime.timedelta(days=31)"
      ]
     },
     "execution_count": 111,
     "metadata": {},
     "output_type": "execute_result"
    }
   ],
   "source": [
    "delta"
   ]
  },
  {
   "cell_type": "code",
   "execution_count": 112,
   "metadata": {},
   "outputs": [],
   "source": [
    "from datetime import date, timedelta\n"
   ]
  },
  {
   "cell_type": "code",
   "execution_count": null,
   "metadata": {},
   "outputs": [],
   "source": [
    "pump_gain_perct"
   ]
  },
  {
   "cell_type": "code",
   "execution_count": 158,
   "metadata": {},
   "outputs": [],
   "source": [
    "sec_cnt_dict = dict()\n",
    "\n",
    "for pd in sec_short_sorted_ts:\n",
    "    date = pd.datetime.date()\n",
    "    sec_cnt_dict[date] = pd.pump_gain_perct"
   ]
  },
  {
   "cell_type": "code",
   "execution_count": 120,
   "metadata": {},
   "outputs": [],
   "source": [
    "cnt_dict = dict()\n",
    "\n",
    "for pd in short_sorted_ts:\n",
    "    date = pd.datetime.date()\n",
    "    cnt_dict[date] = pd.pump_gain_perct"
   ]
  },
  {
   "cell_type": "code",
   "execution_count": 121,
   "metadata": {},
   "outputs": [
    {
     "data": {
      "text/plain": [
       "{datetime.date(2018, 7, 31): 100.0,\n",
       " datetime.date(2018, 7, 21): 119.23,\n",
       " datetime.date(2018, 6, 26): 82.61,\n",
       " datetime.date(2018, 8, 10): 194.44,\n",
       " datetime.date(2018, 8, 27): 135.71,\n",
       " datetime.date(2018, 7, 9): 88.57,\n",
       " datetime.date(2018, 8, 13): 188.0,\n",
       " datetime.date(2018, 7, 15): 125.0,\n",
       " datetime.date(2018, 7, 18): 84.21,\n",
       " datetime.date(2018, 7, 28): 90.48,\n",
       " datetime.date(2018, 7, 4): 143.75,\n",
       " datetime.date(2018, 6, 23): 102.78,\n",
       " datetime.date(2018, 7, 12): 95.0,\n",
       " datetime.date(2018, 8, 16): 245.45,\n",
       " datetime.date(2018, 8, 30): 133.33,\n",
       " datetime.date(2018, 8, 7): 185.71,\n",
       " datetime.date(2018, 7, 25): 75.0,\n",
       " datetime.date(2018, 6, 30): 104.76,\n",
       " datetime.date(2018, 6, 20): 92.5}"
      ]
     },
     "execution_count": 121,
     "metadata": {},
     "output_type": "execute_result"
    }
   ],
   "source": [
    "cnt_dict"
   ]
  },
  {
   "cell_type": "code",
   "execution_count": 159,
   "metadata": {},
   "outputs": [],
   "source": [
    "sec_cnt_dict_1 = dict()\n",
    "for i in range(delta.days + 1):\n",
    "    day = start + timedelta(days=i)\n",
    "    if day in sec_cnt_dict:\n",
    "        sec_cnt_dict_1[day] = sec_cnt_dict[day]\n",
    "    else:\n",
    "        sec_cnt_dict_1[day] = 0"
   ]
  },
  {
   "cell_type": "code",
   "execution_count": 126,
   "metadata": {},
   "outputs": [],
   "source": [
    "cnt_dict_1 = dict()\n",
    "for i in range(delta.days + 1):\n",
    "    day = start + timedelta(days=i)\n",
    "    if day in cnt_dict:\n",
    "        cnt_dict_1[day] = cnt_dict[day]\n",
    "    else:\n",
    "        cnt_dict_1[day] = 0"
   ]
  },
  {
   "cell_type": "code",
   "execution_count": 127,
   "metadata": {},
   "outputs": [
    {
     "data": {
      "text/plain": [
       "{datetime.date(2018, 7, 1): 0,\n",
       " datetime.date(2018, 7, 2): 0,\n",
       " datetime.date(2018, 7, 3): 0,\n",
       " datetime.date(2018, 7, 4): 143.75,\n",
       " datetime.date(2018, 7, 5): 0,\n",
       " datetime.date(2018, 7, 6): 0,\n",
       " datetime.date(2018, 7, 7): 0,\n",
       " datetime.date(2018, 7, 8): 0,\n",
       " datetime.date(2018, 7, 9): 88.57,\n",
       " datetime.date(2018, 7, 10): 0,\n",
       " datetime.date(2018, 7, 11): 0,\n",
       " datetime.date(2018, 7, 12): 95.0,\n",
       " datetime.date(2018, 7, 13): 0,\n",
       " datetime.date(2018, 7, 14): 0,\n",
       " datetime.date(2018, 7, 15): 125.0,\n",
       " datetime.date(2018, 7, 16): 0,\n",
       " datetime.date(2018, 7, 17): 0,\n",
       " datetime.date(2018, 7, 18): 84.21,\n",
       " datetime.date(2018, 7, 19): 0,\n",
       " datetime.date(2018, 7, 20): 0,\n",
       " datetime.date(2018, 7, 21): 119.23,\n",
       " datetime.date(2018, 7, 22): 0,\n",
       " datetime.date(2018, 7, 23): 0,\n",
       " datetime.date(2018, 7, 24): 0,\n",
       " datetime.date(2018, 7, 25): 75.0,\n",
       " datetime.date(2018, 7, 26): 0,\n",
       " datetime.date(2018, 7, 27): 0,\n",
       " datetime.date(2018, 7, 28): 90.48,\n",
       " datetime.date(2018, 7, 29): 0,\n",
       " datetime.date(2018, 7, 30): 0,\n",
       " datetime.date(2018, 7, 31): 100.0,\n",
       " datetime.date(2018, 8, 1): 0}"
      ]
     },
     "execution_count": 127,
     "metadata": {},
     "output_type": "execute_result"
    }
   ],
   "source": [
    "cnt_dict_1"
   ]
  },
  {
   "cell_type": "code",
   "execution_count": 131,
   "metadata": {},
   "outputs": [
    {
     "data": {
      "image/png": "[encoded data removed]",
      "text/plain": [
       "<Figure size 1440x720 with 1 Axes>"
      ]
     },
     "metadata": {
      "needs_background": "light"
     },
     "output_type": "display_data"
    }
   ],
   "source": [
    "\n",
    "\n",
    "    \n",
    "fig, ax = plt.subplots(figsize=(20,10))\n",
    "plt.plot(cnt_dict_1.keys(), cnt_dict_1.values(), '.-', label=\"Gain Percentage\")\n",
    "ax.xaxis.set_major_formatter(format_xdata)\n",
    "ax.xaxis_date()\n",
    "#ax.set_ylim(ymin=0)\n",
    "plt.title(\"pump & dump event for channel Crypto Pump Island\")\n",
    "format_xdata = mdates.DateFormatter('%m-%d')     \n",
    "plt.legend()\n",
    "plt.show()"
   ]
  },
  {
   "cell_type": "code",
   "execution_count": null,
   "metadata": {},
   "outputs": [],
   "source": [
    "sec_cnt_dict_1"
   ]
  },
  {
   "cell_type": "code",
   "execution_count": 160,
   "metadata": {},
   "outputs": [
    {
     "data": {
      "image/png": "[encoded data removed]",
      "text/plain": [
       "<Figure size 1440x720 with 1 Axes>"
      ]
     },
     "metadata": {
      "needs_background": "light"
     },
     "output_type": "display_data"
    }
   ],
   "source": [
    "fig, ax = plt.subplots(figsize=(20,10))\n",
    "plt.plot(sec_cnt_dict_1.keys(), sec_cnt_dict_1.values(), '.-', label=\"Gain Percentage\")\n",
    "ax.xaxis.set_major_formatter(format_xdata)\n",
    "ax.xaxis_date()\n",
    "#ax.set_ylim(ymin=0)\n",
    "plt.title(\"pump & dump event for channel MassivePump\")\n",
    "format_xdata = mdates.DateFormatter('%m-%d')     \n",
    "plt.legend()\n",
    "plt.show()"
   ]
  },
  {
   "cell_type": "code",
   "execution_count": null,
   "metadata": {},
   "outputs": [],
   "source": []
  }
 ],
 "metadata": {
  "kernelspec": {
   "display_name": "Python 3",
   "language": "python",
   "name": "python3"
  },
  "language_info": {
   "codemirror_mode": {
    "name": "ipython",
    "version": 3
   },
   "file_extension": ".py",
   "mimetype": "text/x-python",
   "name": "python",
   "nbconvert_exporter": "python",
   "pygments_lexer": "ipython3",
   "version": "3.7.4"
  }
 },
 "nbformat": 4,
 "nbformat_minor": 2
}

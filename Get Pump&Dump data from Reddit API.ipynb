{
 "cells": [
  {
   "cell_type": "code",
   "execution_count": 24,
   "metadata": {},
   "outputs": [],
   "source": [
    "from psaw import PushshiftAPI\n",
    "import datetime as dt\n",
    "import json\n",
    "import requests \n",
    "import networkx as nx\n",
    "import time\n",
    "import datetime"
   ]
  },
  {
   "cell_type": "code",
   "execution_count": 25,
   "metadata": {},
   "outputs": [],
   "source": [
    "# Global variables\n",
    "api = PushshiftAPI()\n",
    "comment_ids_endpoint_url = 'https://api.pushshift.io/reddit/submission/comment_ids/'\n",
    "comment_endpoint_url = 'https://api.pushshift.io/reddit/comment/search/'\n",
    "submission_endpoint_url = 'https://api.pushshift.io/reddit/submission/search/'\n",
    "start_epoch=int(dt.datetime(2018, 6, 30).timestamp())\n",
    "end_epoch=int(dt.datetime(2018, 7, 2).timestamp())"
   ]
  },
  {
   "cell_type": "code",
   "execution_count": 34,
   "metadata": {},
   "outputs": [],
   "source": [
    "relevant_subreddits = [\n",
    "    'best_of_crypto',\n",
    "    'bitcoin',\n",
    "    'bitcoinbeginners',\n",
    "    'bitcoincash',\n",
    "    'bitcoindiscussion',\n",
    "    'bitcoinmarkets',\n",
    "    'bitcoinmining',\n",
    "    'bitcointechnology',\n",
    "    'bitcointrading',\n",
    "    'btc',\n",
    "    'buttcoin',\n",
    "    'cryptocurrency',\n",
    "    'cryptocurrencytesting',\n",
    "    'cryptomarkets',\n",
    "    'cryptopia',\n",
    "    'cryptopump',\n",
    "    'cryptotrade',\n",
    "    'ethanalysis',\n",
    "    'ethdapps',\n",
    "    'ethdev',\n",
    "    'ethereum',\n",
    "    'ethereumcommunity',\n",
    "    'ethereumnoobies',\n",
    "    'ethermining',\n",
    "    'ethinsider',\n",
    "    'ethinvestor',\n",
    "    'ethtrader',\n",
    "    'ethtraderpro',\n",
    "    'gpumining',\n",
    "    'ripple'\n",
    "]"
   ]
  },
  {
   "cell_type": "code",
   "execution_count": 41,
   "metadata": {},
   "outputs": [],
   "source": [
    "keyword = 't.me'"
   ]
  },
  {
   "cell_type": "code",
   "execution_count": 42,
   "metadata": {},
   "outputs": [
    {
     "name": "stdout",
     "output_type": "stream",
     "text": [
      "Starting at 2019-10-31 17:53:35.827629\n",
      "Submission URL: https://api.pushshift.io/reddit/submission/search/?q=t.me&after=1530331200&before=1530504000&fields=id,author,selftext,title,num_comments,created_utc,score,full_link,url,subreddit,subreddit_id\n",
      "Finished at 2019-10-31 17:53:39.351638\n",
      "Total time: --- 3.5246 seconds ---\n"
     ]
    }
   ],
   "source": [
    "start_time = time.time()\n",
    "print(\"Starting at \" + str(datetime.datetime.now()))\n",
    "\n",
    "subreddits_set = set()\n",
    "\n",
    "submission_url = submission_endpoint_url + \"?q=\" + keyword \\\n",
    "            + \"&after=\" + str(start_epoch) + \"&before=\" + str(end_epoch) \\\n",
    "            + \"&fields=id,author,selftext,title,num_comments,created_utc,\" \\\n",
    "            + \"score,full_link,url,subreddit,subreddit_id\"\n",
    "\n",
    "sub_counter = 0\n",
    "\n",
    "with open('pum_n_dump_data_from_api/' + keyword + \"_reddit_submissions\" + \"_\" \\\n",
    "          + str(start_epoch) + \"_\" + str(end_epoch) + \".txt\", \"w\") as s_f, \\\n",
    "open('pum_n_dump_data_from_api/' + keyword + \"_reddit_comments\" + \"_from_submissions_\"\\\n",
    "     + str(start_epoch) + \"_\" + str(end_epoch) + \".txt\", \"w\") as c_f:\n",
    "    \n",
    "    sub_r = requests.get(url = submission_url)\n",
    "    print(\"Submission URL:\", submission_url)\n",
    "    \n",
    "    if sub_r.status_code == 200:\n",
    "        sub_json_obj = json.loads(sub_r.text)\n",
    "        sub_arr = sub_json_obj['data']\n",
    "\n",
    "    for s in sub_arr:\n",
    "\n",
    "        subreddit = s['subreddit']\n",
    "        subreddits_set.add(subreddit)\n",
    "        \n",
    "        if subreddit.lower() in relevant_subreddits:\n",
    "            sub_id = s['id']\n",
    "            s_f.write(str(s) + '\\n')\n",
    "\n",
    "            sub_counter += 1\n",
    "            if sub_counter % 1000 == 0:\n",
    "                print(\"Adding \", sub_counter, \"th submission\")\n",
    "\n",
    "            comment_ids_url = comment_ids_endpoint_url + str(sub_id)\n",
    "            r = requests.get(url = comment_ids_url)\n",
    "\n",
    "            if r.status_code == 200:\n",
    "                comment_ids_json_obj = json.loads(r.text)\n",
    "                comment_ids_arr = comment_ids_json_obj['data']\n",
    "\n",
    "                if len(comment_ids_arr) > 0 :                \n",
    "                    comment_ids_str = ','.join(comment_ids_arr)\n",
    "\n",
    "                    comment_url = comment_endpoint_url + \"?ids=\" + comment_ids_str \\\n",
    "                    + \"&size=\" + str(10) \\\n",
    "                    + \"&fields=id,author,body,created_utc,score,\" \\\n",
    "                    + \"parent_id,link_id,subreddit,subreddit_id\"\n",
    "\n",
    "                    com_r = requests.get(url = comment_url)\n",
    "                    if com_r.status_code == 200:\n",
    "                        comment_json_obj = json.loads(com_r.text)\n",
    "                        comment_ids_arr = comment_json_obj['data']\n",
    "\n",
    "                        c_counter = 0\n",
    "                        for c in comment_ids_arr:\n",
    "                            c_f.write(str(c) + '\\n')\n",
    "                            c_counter += 1\n",
    "\n",
    "                            if c_counter % 1000 == 0:\n",
    "                                print(\"Adding \",c_counter, \"th comment to \", sub_counter, \"th submission\")            \n",
    "\n",
    "\n",
    "print(\"Finished at \" + str(datetime.datetime.now()))\n",
    "print(\"Total time: --- {0} seconds ---\".format(round(time.time() - start_time, 4)))"
   ]
  },
  {
   "cell_type": "code",
   "execution_count": 43,
   "metadata": {},
   "outputs": [
    {
     "name": "stdout",
     "output_type": "stream",
     "text": [
      "Starting at 2019-10-31 17:53:39.366766\n",
      "Comment URL: https://api.pushshift.io/reddit/comment/search/?q=t.me&after=1530331200&before=1530504000&fields=id,author,body,created_utc,score,parent_id,link_id,subreddit,subreddit_id\n",
      "Finished at 2019-10-31 17:53:39.795931\n",
      "Total time: --- 0.4293 seconds ---\n"
     ]
    }
   ],
   "source": [
    "start_time = time.time()\n",
    "print(\"Starting at \" + str(datetime.datetime.now()))\n",
    "\n",
    "subreddits_set_2 = set()\n",
    "\n",
    "comment_url = comment_endpoint_url + \"?q=\" + keyword \\\n",
    "            + \"&after=\" + str(start_epoch) + \"&before=\" + str(end_epoch) \\\n",
    "            + \"&fields=id,author,body,created_utc,score,\" \\\n",
    "            + \"parent_id,link_id,subreddit,subreddit_id\"\n",
    "\n",
    "c_counter = 0\n",
    "\n",
    "with open('pum_n_dump_data_from_api/' + keyword + \"_reddit_comments\" + \"_\"\\\n",
    "     + str(start_epoch) + \"_\" + str(end_epoch) + \".txt\", \"w\") as c_f:\n",
    "    \n",
    "    c_r = requests.get(url = comment_url)\n",
    "    print(\"Comment URL:\", comment_url)\n",
    "    \n",
    "    if c_r.status_code == 200:\n",
    "        c_json_obj = json.loads(c_r.text)\n",
    "        c_arr = c_json_obj['data']\n",
    "\n",
    "    for c in c_arr:\n",
    "\n",
    "        subreddit = c['subreddit']\n",
    "        subreddits_set_2.add(subreddit)\n",
    "        \n",
    "        if subreddit.lower() in relevant_subreddits:\n",
    "            c_id = c['id']\n",
    "            c_f.write(str(c) + '\\n')\n",
    "\n",
    "            c_counter += 1\n",
    "            if c_counter % 1000 == 0:\n",
    "                print(\"Adding \", c_counter, \"th submission\")\n",
    "\n",
    "print(\"Finished at \" + str(datetime.datetime.now()))\n",
    "print(\"Total time: --- {0} seconds ---\".format(round(time.time() - start_time, 4)))"
   ]
  },
  {
   "cell_type": "code",
   "execution_count": null,
   "metadata": {},
   "outputs": [],
   "source": []
  }
 ],
 "metadata": {
  "kernelspec": {
   "display_name": "Python 3",
   "language": "python",
   "name": "python3"
  },
  "language_info": {
   "codemirror_mode": {
    "name": "ipython",
    "version": 3
   },
   "file_extension": ".py",
   "mimetype": "text/x-python",
   "name": "python",
   "nbconvert_exporter": "python",
   "pygments_lexer": "ipython3",
   "version": "3.7.4"
  }
 },
 "nbformat": 4,
 "nbformat_minor": 2
}

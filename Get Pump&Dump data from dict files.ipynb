{
 "cells": [
  {
   "cell_type": "code",
   "execution_count": 1,
   "metadata": {},
   "outputs": [],
   "source": [
    "import networkx as nx\n",
    "import time\n",
    "import datetime\n",
    "import json"
   ]
  },
  {
   "cell_type": "code",
   "execution_count": 2,
   "metadata": {},
   "outputs": [],
   "source": [
    "with open('../data/steph_n_andrew/submissions.json', 'r') as f:\n",
    "    submissions = json.load(f)"
   ]
  },
  {
   "cell_type": "code",
   "execution_count": 3,
   "metadata": {},
   "outputs": [],
   "source": [
    "with open('../data/steph_n_andrew/comments.json', 'r') as f:\n",
    "    comments = json.load(f)"
   ]
  },
  {
   "cell_type": "code",
   "execution_count": 15,
   "metadata": {},
   "outputs": [
    {
     "name": "stdout",
     "output_type": "stream",
     "text": [
      "Starting at 2019-10-31 14:11:58.939051\n",
      "{'body': 'Original thread: https://redd.it/4iwfsx\\nAfter the execution, the malware send some data to bnaf12.no-ip.biz.  This is the attacker website http://paulie[.]rocks/\\n\\nhttp://imgur.com/pPinOgK\\n\\nhttps://bitcointalk.org/index.php?action=profile;u=838056\\nhttps://www.reddit.com/user/PaulieGolding\\nhttps://bazaarbay.org/@pauliegolding\\nhttps://www.bustabit.com/user/PaulieGolding', 'author': 'munteanualex_ro', 'title': 'I found some information about the guy who stole $10,000 in cryptos', 'comment_id': ['d37fjem', 'd37gxkg', 'd37k317', 'd37kbpv', 'd37lxoy', 'd37lz3g', 'd38qxcv', 'd39fzj8'], 'subreddit': 'btc', 'time': 1463390903}\n",
      "{'body': 'The next MIT swapfest is 16-Aug-15 &amp; I accept #Bitcoin at my tables. I think I\\'m the only one to accept Bitcoin at this flea market. Just look for the \"Bitcoin accepted here\" sings on the out side tables.', 'author': '[deleted]', 'title': 'Bitcoins &amp; MIT swapfest', 'comment_id': ['cu0hw0x'], 'subreddit': 'bitcoin', 'time': '1439395743'}\n",
      "{'body': '', 'author': 'HurtlingTurtle', 'title': 'https://www.blockrent.club', 'comment_id': [], 'subreddit': 'cryptocurrency', 'time': 1499632893}\n",
      "Finished at 2019-10-31 14:11:58.939612\n",
      "Total time: --- 0.0007 seconds ---\n"
     ]
    }
   ],
   "source": [
    "start_time = time.time()\n",
    "print(\"Starting at \" + str(datetime.datetime.now()))\n",
    "\n",
    "cryptoPump_r_subs= []\n",
    "rs = set()\n",
    "corupt_sub_counter=0\n",
    "\n",
    "for i, submission in enumerate(submissions):\n",
    "    if i > 2:\n",
    "        break\n",
    "    print(submissions[submission])\n",
    "\n",
    "    sub_id = submission\n",
    "    try:\n",
    "        subreddit = submissions[submission]['subreddit']\n",
    "    except TypeError:\n",
    "        corupt_sub_counter += 1\n",
    "\n",
    "    rs.add(subreddit)\n",
    "    if subreddit.lower() == 'cryptopump':\n",
    "        cryptoPump_r_subs.append(submission)\n",
    "\n",
    "print(\"Finished at \" + str(datetime.datetime.now()))\n",
    "print(\"Total time: --- {0} seconds ---\".format(round(time.time() - start_time, 4)))"
   ]
  },
  {
   "cell_type": "code",
   "execution_count": 12,
   "metadata": {},
   "outputs": [
    {
     "data": {
      "text/plain": [
       "{'bitcoin',\n",
       " 'bitcoinbeginners',\n",
       " 'bitcoincash',\n",
       " 'bitcoindiscussion',\n",
       " 'bitcoinmarkets',\n",
       " 'bitcoinmining',\n",
       " 'bitcointechnology',\n",
       " 'bitcointrading',\n",
       " 'btc',\n",
       " 'cryptocurrency',\n",
       " 'cryptomarkets',\n",
       " 'cryptotrade',\n",
       " 'ethanalysis',\n",
       " 'ethdapps',\n",
       " 'ethdev',\n",
       " 'ethereum',\n",
       " 'ethereumcommunity',\n",
       " 'ethereumnoobies',\n",
       " 'ethermining',\n",
       " 'ethinsider',\n",
       " 'ethinvestor',\n",
       " 'ethtrader',\n",
       " 'ethtraderpro',\n",
       " 'gpumining'}"
      ]
     },
     "execution_count": 12,
     "metadata": {},
     "output_type": "execute_result"
    }
   ],
   "source": [
    "rs"
   ]
  },
  {
   "cell_type": "code",
   "execution_count": 13,
   "metadata": {},
   "outputs": [
    {
     "name": "stdout",
     "output_type": "stream",
     "text": [
      "Starting at 2019-10-31 13:53:08.537682\n",
      "Finished at 2019-10-31 13:53:38.139854\n",
      "Total time: --- 29.6027 seconds ---\n"
     ]
    }
   ],
   "source": [
    "start_time = time.time()\n",
    "print(\"Starting at \" + str(datetime.datetime.now()))\n",
    "\n",
    "cryptoPump_r_coms= []\n",
    "corupt_com_counter=0\n",
    "rs = set()\n",
    "\n",
    "for i, c in enumerate(comments):\n",
    "\n",
    "    try:\n",
    "        subreddit = comments[c]['subreddit']\n",
    "    except TypeError:\n",
    "        corupt_com_counter += 1\n",
    "\n",
    "    rs.add(subreddit)\n",
    "    if subreddit.lower() == 'cryptopump':\n",
    "        cryptoPump_r_coms.append(c)\n",
    "\n",
    "print(\"Finished at \" + str(datetime.datetime.now()))\n",
    "print(\"Total time: --- {0} seconds ---\".format(round(time.time() - start_time, 4)))"
   ]
  },
  {
   "cell_type": "code",
   "execution_count": 8,
   "metadata": {},
   "outputs": [
    {
     "data": {
      "text/plain": [
       "0"
      ]
     },
     "execution_count": 8,
     "metadata": {},
     "output_type": "execute_result"
    }
   ],
   "source": [
    "len(cryptoPump_r_coms)"
   ]
  },
  {
   "cell_type": "code",
   "execution_count": null,
   "metadata": {},
   "outputs": [],
   "source": []
  }
 ],
 "metadata": {
  "kernelspec": {
   "display_name": "Python 3",
   "language": "python",
   "name": "python3"
  },
  "language_info": {
   "codemirror_mode": {
    "name": "ipython",
    "version": 3
   },
   "file_extension": ".py",
   "mimetype": "text/x-python",
   "name": "python",
   "nbconvert_exporter": "python",
   "pygments_lexer": "ipython3",
   "version": "3.7.4"
  }
 },
 "nbformat": 4,
 "nbformat_minor": 2
}

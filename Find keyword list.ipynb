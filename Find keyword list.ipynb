{
 "cells": [
  {
   "cell_type": "code",
   "execution_count": 15,
   "metadata": {},
   "outputs": [],
   "source": [
    "import json\n",
    "import ast\n",
    "import datetime\n",
    "import time"
   ]
  },
  {
   "cell_type": "code",
   "execution_count": 34,
   "metadata": {},
   "outputs": [
    {
     "name": "stdout",
     "output_type": "stream",
     "text": [
      "Starting at 2019-10-20 18:18:53.986400\n",
      "Train:  206198\n",
      "Test:  176442\n",
      "Finished at 2019-10-20 18:19:10.462135\n",
      "Total time: --- 16.4759 seconds ---\n"
     ]
    }
   ],
   "source": [
    "start_time = time.time()\n",
    "print(\"Starting at \" + str(datetime.datetime.now()))\n",
    "\n",
    "corupt_sub_counter = 0\n",
    "c_test, c_train= 0, 0\n",
    "corpus_test, corpus_train= [], []\n",
    "start_epoch=int(datetime.datetime(2017, 9, 1).timestamp())\n",
    "end_epoch=int(datetime.datetime(2018, 3, 30).timestamp())\n",
    "\n",
    "with open(\"bitcoin_cascades_subs_from_dic.txt\", \"r\") as f,  open(\"corpus_train.txt\", \"w\") as ctrain,  open(\"corpus_test.txt\", \"w\") as ctest:\n",
    "    for line in f:\n",
    "        c_train += 1\n",
    "        line_parts = line.split(';', 1)\n",
    "        id = line_parts[0]\n",
    "        submission = ast.literal_eval(line_parts[1])\n",
    "        \n",
    "        epoch, title, body = 0, \"\", \"\"\n",
    "        try:\n",
    "            epoch = int(submission['time'])\n",
    "            title = submission['title']\n",
    "            body = submission['body']\n",
    "\n",
    "        except TypeError:\n",
    "            corupt_sub_counter += 1\n",
    "        \n",
    "        corpa = title + ' ' + body + ' '\n",
    "        corpus_train.append(corpa)\n",
    "        ctrain.write(corpa + \"\\n\")\n",
    "        \n",
    "        if epoch >= start_epoch and epoch <= end_epoch :\n",
    "            c_test += 1\n",
    "            corpus_test.append(corpa)\n",
    "            ctest.write(corpa + \"\\n\")\n",
    "            \n",
    "print(\"Train: \", len(corpus_train))\n",
    "print(\"Test: \", len(corpus_test))\n",
    "print(\"Finished at \" + str(datetime.datetime.now()))\n",
    "print(\"Total time: --- {0} seconds ---\".format(round(time.time() - start_time, 4)))\n"
   ]
  },
  {
   "cell_type": "code",
   "execution_count": 16,
   "metadata": {},
   "outputs": [],
   "source": [
    "def sort_coo(coo_matrix):\n",
    "    tuples = zip(coo_matrix.col, coo_matrix.data)\n",
    "    return sorted(tuples, key=lambda x: (x[1], x[0]), reverse=True)\n",
    "\n",
    "def extract_topn_from_vector(feature_names, sorted_items, topn=10):\n",
    "    \"\"\"get the feature names and tf-idf score of top n items\"\"\"\n",
    "    \n",
    "    #use only topn items from vector\n",
    "    sorted_items = sorted_items[:topn]\n",
    "\n",
    "    score_vals = []\n",
    "    feature_vals = []\n",
    "\n",
    "    for idx, score in sorted_items:\n",
    "        fname = feature_names[idx]\n",
    "        \n",
    "        #keep track of feature name and its corresponding score\n",
    "        score_vals.append(round(score, 3))\n",
    "        feature_vals.append(feature_names[idx])\n",
    "\n",
    "    #create a tuples of feature,score\n",
    "    #results = zip(feature_vals,score_vals)\n",
    "    results= {}\n",
    "    for idx in range(len(feature_vals)):\n",
    "        results[feature_vals[idx]]=score_vals[idx]\n",
    "    \n",
    "    return results"
   ]
  },
  {
   "cell_type": "code",
   "execution_count": 17,
   "metadata": {},
   "outputs": [],
   "source": [
    "# put the common code into several methods\n",
    "def get_keywords(crp):\n",
    "\n",
    "    feature_names=cv.get_feature_names()\n",
    "    #generate tf-idf for the given document\n",
    "    tf_idf_vector=tfidf_transformer.transform(cv.transform([crp]))\n",
    "\n",
    "    #sort the tf-idf vectors by descending order of scores\n",
    "    sorted_items=sort_coo(tf_idf_vector.tocoo())\n",
    "\n",
    "    #extract only the top n; n here is 10\n",
    "    keywords=extract_topn_from_vector(feature_names,sorted_items,10)\n",
    "    \n",
    "    return keywords"
   ]
  },
  {
   "cell_type": "code",
   "execution_count": 18,
   "metadata": {},
   "outputs": [],
   "source": [
    "from sklearn.feature_extraction.text import CountVectorizer\n",
    "import re\n",
    "\n",
    "def get_stop_words(stop_file_path):\n",
    "    \"\"\"load stop words \"\"\"\n",
    "    \n",
    "    with open(stop_file_path, 'r', encoding=\"utf-8\") as f:\n",
    "        stopwords = f.readlines()\n",
    "        stop_set = set(m.strip() for m in stopwords)\n",
    "        return frozenset(stop_set)\n",
    "\n",
    "#load a set of stop words\n",
    "stopwords=get_stop_words(\"crypto_stopwords.txt\")"
   ]
  },
  {
   "cell_type": "code",
   "execution_count": null,
   "metadata": {},
   "outputs": [],
   "source": [
    "#create a vocabulary of words, \n",
    "#ignore words that appear in 85% of documents, \n",
    "#eliminate stop words\n",
    "cv=CountVectorizer(max_df=0.85,stop_words=stopwords)\n",
    "word_count_vector=cv.fit_transform(corpus_train)"
   ]
  },
  {
   "cell_type": "code",
   "execution_count": 38,
   "metadata": {},
   "outputs": [
    {
     "data": {
      "text/plain": [
       "TfidfTransformer(norm='l2', smooth_idf=True, sublinear_tf=False, use_idf=True)"
      ]
     },
     "execution_count": 38,
     "metadata": {},
     "output_type": "execute_result"
    }
   ],
   "source": [
    "from sklearn.feature_extraction.text import TfidfTransformer\n",
    "\n",
    "tfidf_transformer=TfidfTransformer(smooth_idf=True,use_idf=True)\n",
    "tfidf_transformer.fit(word_count_vector)"
   ]
  },
  {
   "cell_type": "code",
   "execution_count": 39,
   "metadata": {},
   "outputs": [
    {
     "name": "stdout",
     "output_type": "stream",
     "text": [
      "Starting at 2019-10-20 18:19:18.244604\n",
      "Finished at 2019-10-20 23:20:34.034372\n",
      "Total time: --- 18075.7904 seconds ---\n"
     ]
    }
   ],
   "source": [
    "start_time = time.time()\n",
    "print(\"Starting at \" + str(datetime.datetime.now()))\n",
    "\n",
    "keyword_dict = dict()\n",
    "\n",
    "for cor in corpus_test:\n",
    "    keywords=get_keywords(cor)\n",
    "    for k in keywords:\n",
    "        if k in keyword_dict:\n",
    "            keyword_dict[k] += 1\n",
    "        else:\n",
    "            keyword_dict[k] = 1\n",
    "            \n",
    "print(\"Finished at \" + str(datetime.datetime.now()))\n",
    "print(\"Total time: --- {0} seconds ---\".format(round(time.time() - start_time, 4)))"
   ]
  },
  {
   "cell_type": "code",
   "execution_count": 22,
   "metadata": {},
   "outputs": [
    {
     "name": "stdout",
     "output_type": "stream",
     "text": [
      "106\n"
     ]
    }
   ],
   "source": [
    "print(len(keyword_dict))"
   ]
  },
  {
   "cell_type": "code",
   "execution_count": 23,
   "metadata": {},
   "outputs": [],
   "source": [
    "sorted_x = sorted(keyword_dict.items(), key=lambda kv: kv[1])"
   ]
  },
  {
   "cell_type": "code",
   "execution_count": 24,
   "metadata": {},
   "outputs": [
    {
     "data": {
      "text/plain": [
       "[('charge', 1),\n",
       " ('80k', 1),\n",
       " ('details', 1),\n",
       " ('30', 1),\n",
       " ('25', 1),\n",
       " ('2018', 1),\n",
       " ('exchange', 2),\n",
       " ('miss', 2),\n",
       " ('x200b', 2),\n",
       " ('last', 2),\n",
       " ('chance', 2),\n",
       " ('days', 2),\n",
       " ('results', 2),\n",
       " ('great', 2),\n",
       " ('week', 2),\n",
       " ('100k', 2),\n",
       " ('here', 2),\n",
       " ('scammers', 2),\n",
       " ('legit', 2),\n",
       " ('knows', 2),\n",
       " ('knowledgeable', 2),\n",
       " ('kind', 2),\n",
       " ('intensity', 2),\n",
       " ('new', 3),\n",
       " ('vkfctvb', 3),\n",
       " ('saturday', 3),\n",
       " ('invitation', 3),\n",
       " ('youtube', 3),\n",
       " ('www', 3),\n",
       " ('free', 3),\n",
       " ('invites', 3),\n",
       " ('binance', 3),\n",
       " ('now', 4),\n",
       " ('vip', 4),\n",
       " ('big', 4),\n",
       " ('members', 4),\n",
       " ('com', 4),\n",
       " ('recently', 4),\n",
       " ('limited', 4),\n",
       " ('achtjgw', 4),\n",
       " ('vibe', 5),\n",
       " ('wanna', 5),\n",
       " ('just', 5),\n",
       " ('invite', 6),\n",
       " ('check', 7),\n",
       " ('watch', 9),\n",
       " ('cvaja4x', 10),\n",
       " ('gg', 11),\n",
       " ('discord', 12),\n",
       " ('https', 12)]"
      ]
     },
     "execution_count": 24,
     "metadata": {},
     "output_type": "execute_result"
    }
   ],
   "source": [
    "sorted_x[len(sorted_x) - 50: len(sorted_x)]"
   ]
  },
  {
   "cell_type": "code",
   "execution_count": 47,
   "metadata": {},
   "outputs": [],
   "source": [
    "sorted_x_dict = dict(sorted_x)"
   ]
  },
  {
   "cell_type": "code",
   "execution_count": 48,
   "metadata": {},
   "outputs": [],
   "source": [
    "import json\n",
    "with open(\"btc_sub_keywords.txt\", 'w') as f:\n",
    "    json_d = json.dumps(sorted_x_dict)\n",
    "    f.write(json_d)\n",
    "    f.close()"
   ]
  },
  {
   "cell_type": "markdown",
   "metadata": {},
   "source": [
    "### Get cryptoPump subreddit keywords"
   ]
  },
  {
   "cell_type": "code",
   "execution_count": 2,
   "metadata": {},
   "outputs": [],
   "source": [
    "import datetime as dt\n",
    "import json\n",
    "import requests \n",
    "import networkx as nx\n",
    "import time\n",
    "import datetime"
   ]
  },
  {
   "cell_type": "code",
   "execution_count": 4,
   "metadata": {},
   "outputs": [],
   "source": [
    "comment_ids_endpoint_url = 'https://api.pushshift.io/reddit/submission/comment_ids/'\n",
    "comment_endpoint_url = 'https://api.pushshift.io/reddit/comment/search/'\n",
    "submission_endpoint_url = 'https://api.pushshift.io/reddit/submission/search/'"
   ]
  },
  {
   "cell_type": "code",
   "execution_count": 5,
   "metadata": {},
   "outputs": [
    {
     "name": "stdout",
     "output_type": "stream",
     "text": [
      "Starting at 2019-11-13 10:31:46.387832\n",
      "Submission URL: https://api.pushshift.io/reddit/submission/search/?subreddit=cryptopump&fields=selftext,title\n",
      "25 submissions recieved\n",
      "Finished at 2019-11-13 10:31:46.650533\n",
      "Total time: --- 0.2629 seconds ---\n"
     ]
    }
   ],
   "source": [
    "start_time = time.time()\n",
    "print(\"Starting at \" + str(datetime.datetime.now()))\n",
    "\n",
    "sub_counter = 0\n",
    "\n",
    "submission_url = submission_endpoint_url + \"?subreddit=\" + 'cryptopump' + \"&fields=selftext,title\"\n",
    "\n",
    "with open(\"cryptoPumpSubreddit.txt\", \"w\") as f:\n",
    "    \n",
    "    sub_r = requests.get(url = submission_url)\n",
    "    print(\"Submission URL:\", submission_url)\n",
    "    \n",
    "    if sub_r.status_code == 200:\n",
    "        sub_json_obj = json.loads(sub_r.text)\n",
    "        sub_arr = sub_json_obj['data']\n",
    "\n",
    "    for s in sub_arr:\n",
    "        f.write(str(s) + '\\n')\n",
    "        sub_counter += 1\n",
    "        \n",
    "print(str(sub_counter), \"submissions recieved\")\n",
    "print(\"Finished at \" + str(datetime.datetime.now()))\n",
    "print(\"Total time: --- {0} seconds ---\".format(round(time.time() - start_time, 4)))"
   ]
  },
  {
   "cell_type": "code",
   "execution_count": 12,
   "metadata": {},
   "outputs": [
    {
     "name": "stdout",
     "output_type": "stream",
     "text": [
      "Starting at 2019-11-13 11:01:14.539593\n",
      "Train:  25\n",
      "Test:  0\n",
      "Finished at 2019-11-13 11:01:14.542890\n",
      "Total time: --- 0.0035 seconds ---\n"
     ]
    }
   ],
   "source": [
    "#### Reading from the dictionary file we created\n",
    "import ast\n",
    "\n",
    "start_time = time.time()\n",
    "print(\"Starting at \" + str(datetime.datetime.now()))\n",
    "\n",
    "corupt_sub_counter = 0\n",
    "c_test, c_train= 0, 0\n",
    "corpus_test, corpus_train= [], []\n",
    "start_epoch=int(datetime.datetime(2017, 9, 1).timestamp())\n",
    "end_epoch=int(datetime.datetime(2018, 3, 30).timestamp())\n",
    "\n",
    "with open(\"cryptoPumpSubreddit.txt\", \"r\") as f,  open(\"cryptoPumpSubreddit_corpus_train.txt\", \"w\") as ctrain:\n",
    "    for line in f:\n",
    "        json_obj = ast.literal_eval(line)\n",
    "        title = json_obj['title']\n",
    "        body = json_obj['selftext']\n",
    "        \n",
    "        c_train += 1        \n",
    "        corpa = title + ' ' + body + ' '\n",
    "        corpus_train.append(corpa)\n",
    "        ctrain.write(corpa + \"\\n\")\n",
    "            \n",
    "print(\"Train: \", len(corpus_train))\n",
    "print(\"Test: \", len(corpus_test))\n",
    "print(\"Finished at \" + str(datetime.datetime.now()))\n",
    "print(\"Total time: --- {0} seconds ---\".format(round(time.time() - start_time, 4)))"
   ]
  },
  {
   "cell_type": "code",
   "execution_count": 19,
   "metadata": {},
   "outputs": [
    {
     "name": "stderr",
     "output_type": "stream",
     "text": [
      "/home/pbashiri/anaconda3/lib/python3.7/site-packages/sklearn/feature_extraction/text.py:300: UserWarning: Your stop_words may be inconsistent with your preprocessing. Tokenizing the stop words generated tokens ['come', 'vis', 'viser', 'visest'] not in stop_words.\n",
      "  'stop_words.' % sorted(inconsistent))\n"
     ]
    }
   ],
   "source": [
    "cv=CountVectorizer(max_df=0.85,stop_words=stopwords)\n",
    "word_count_vector=cv.fit_transform(corpus_train)"
   ]
  },
  {
   "cell_type": "code",
   "execution_count": 20,
   "metadata": {},
   "outputs": [
    {
     "data": {
      "text/plain": [
       "TfidfTransformer(norm='l2', smooth_idf=True, sublinear_tf=False, use_idf=True)"
      ]
     },
     "execution_count": 20,
     "metadata": {},
     "output_type": "execute_result"
    }
   ],
   "source": [
    "from sklearn.feature_extraction.text import TfidfTransformer\n",
    "\n",
    "tfidf_transformer=TfidfTransformer(smooth_idf=True,use_idf=True)\n",
    "tfidf_transformer.fit(word_count_vector)"
   ]
  },
  {
   "cell_type": "code",
   "execution_count": 21,
   "metadata": {},
   "outputs": [
    {
     "name": "stdout",
     "output_type": "stream",
     "text": [
      "Starting at 2019-11-13 11:04:12.199104\n",
      "Finished at 2019-11-13 11:04:12.249935\n",
      "Total time: --- 0.0514 seconds ---\n"
     ]
    }
   ],
   "source": [
    "start_time = time.time()\n",
    "print(\"Starting at \" + str(datetime.datetime.now()))\n",
    "\n",
    "keyword_dict = dict()\n",
    "\n",
    "for cor in corpus_train:\n",
    "    keywords=get_keywords(cor)\n",
    "    for k in keywords:\n",
    "        if k in keyword_dict:\n",
    "            keyword_dict[k] += 1\n",
    "        else:\n",
    "            keyword_dict[k] = 1\n",
    "            \n",
    "print(\"Finished at \" + str(datetime.datetime.now()))\n",
    "print(\"Total time: --- {0} seconds ---\".format(round(time.time() - start_time, 4)))"
   ]
  },
  {
   "cell_type": "code",
   "execution_count": 25,
   "metadata": {},
   "outputs": [
    {
     "data": {
      "text/plain": [
       "[('participant', 1),\n",
       " ('only', 1),\n",
       " ('airdrops', 1),\n",
       " ('600', 1),\n",
       " ('tomorrow', 1),\n",
       " ('returns', 1),\n",
       " ('next', 1),\n",
       " ('expected', 1),\n",
       " ('announced', 1),\n",
       " ('2000', 1),\n",
       " ('zbsxprf', 1),\n",
       " ('back', 1),\n",
       " ('real', 1),\n",
       " ('oldest', 1),\n",
       " ('megapumpgroup', 1),\n",
       " ('mature', 1),\n",
       " ('don', 1),\n",
       " ('amp', 1),\n",
       " ('token', 1),\n",
       " ('profits', 1),\n",
       " ('pkg', 1),\n",
       " ('mercatox', 1),\n",
       " ('buy', 1),\n",
       " ('10000x', 1),\n",
       " ('100000x', 1),\n",
       " ('scheduled', 1),\n",
       " ('know', 1),\n",
       " ('first', 1),\n",
       " ('hour', 1),\n",
       " ('begins', 1),\n",
       " ('90000', 1),\n",
       " ('x887ju7', 1),\n",
       " ('today', 1),\n",
       " ('plus', 1),\n",
       " ('huuuuuge', 1),\n",
       " ('event', 1),\n",
       " ('come', 1),\n",
       " ('7pm', 1),\n",
       " ('90k', 1),\n",
       " ('learn', 1),\n",
       " ('youd', 1),\n",
       " ('wel', 1),\n",
       " ('xahafp7', 1),\n",
       " ('dont', 1),\n",
       " ('close', 1),\n",
       " ('pamp', 1),\n",
       " ('bigpumpsignal', 1),\n",
       " ('12d1kjww42', 1),\n",
       " ('day', 1),\n",
       " ('instructions', 1),\n",
       " ('biggest', 1),\n",
       " ('spot', 1),\n",
       " ('snag', 1),\n",
       " ('pumping', 1),\n",
       " ('member', 1),\n",
       " ('coin', 1),\n",
       " ('charge', 1),\n",
       " ('80k', 1),\n",
       " ('details', 1),\n",
       " ('30', 1),\n",
       " ('25', 1),\n",
       " ('2018', 1),\n",
       " ('exchange', 2),\n",
       " ('miss', 2),\n",
       " ('x200b', 2),\n",
       " ('last', 2),\n",
       " ('chance', 2),\n",
       " ('days', 2),\n",
       " ('results', 2),\n",
       " ('great', 2),\n",
       " ('week', 2),\n",
       " ('100k', 2),\n",
       " ('here', 2),\n",
       " ('scammers', 2),\n",
       " ('legit', 2),\n",
       " ('knows', 2),\n",
       " ('knowledgeable', 2),\n",
       " ('kind', 2),\n",
       " ('intensity', 2),\n",
       " ('new', 3),\n",
       " ('vkfctvb', 3),\n",
       " ('saturday', 3),\n",
       " ('invitation', 3),\n",
       " ('youtube', 3),\n",
       " ('www', 3),\n",
       " ('free', 3),\n",
       " ('invites', 3),\n",
       " ('binance', 3),\n",
       " ('now', 4),\n",
       " ('vip', 4),\n",
       " ('big', 4),\n",
       " ('members', 4),\n",
       " ('com', 4),\n",
       " ('recently', 4),\n",
       " ('limited', 4),\n",
       " ('achtjgw', 4),\n",
       " ('vibe', 5),\n",
       " ('wanna', 5),\n",
       " ('just', 5),\n",
       " ('invite', 6),\n",
       " ('check', 7),\n",
       " ('watch', 9),\n",
       " ('cvaja4x', 10),\n",
       " ('gg', 11),\n",
       " ('discord', 12),\n",
       " ('https', 12)]"
      ]
     },
     "execution_count": 25,
     "metadata": {},
     "output_type": "execute_result"
    }
   ],
   "source": [
    "sorted_x"
   ]
  },
  {
   "cell_type": "code",
   "execution_count": 50,
   "metadata": {
    "collapsed": true
   },
   "outputs": [
    {
     "data": {
      "text/plain": [
       "\"🌷📌AIRDROPS FOR 600 PARTICIPANT ONLY [removed] %%%%Next Pump Announced Tomorrow! Expected returns are 2000% (New Exchange!!) [removed] %%%%MEGAPUMPGROUP IS BACK!! the oldest and most mature and real pump group is now back! check it out now!!\\n\\n  \\n\\n[https://discord.gg/ZBSxPRF](https://discord.gg/ZBSxPRF)\\n\\n  \\n\\n[https://discord.gg/ZBSxPRF](https://discord.gg/ZBSxPRF)\\n\\n  \\n\\n[https://discord.gg/ZBSxPRF](https://discord.gg/ZBSxPRF)\\n\\n&amp;#x200B; %%%%This Saturday - another pump! Don't miss it VIP invite to join: [https://discord.gg/vKfCTVb](https://discord.gg/vKfCTVb)\\n\\n&amp;#x200B; %%%%PKG Token buy now on mercatox exchange 10000x to 100000x profits 💯%  %%%%New big pump scheduled! Be the first to know more about it! For more info, VIP invitation here: [https://discord.gg/vKfCTVb](https://discord.gg/vKfCTVb) %%%%In 1 hour, very big pump!!! 90000 + members.\\n\\nIn 1 hour the pump begins! \\n\\nLast chance to join here: [https://discord.gg/vKfCTVb](https://discord.gg/vKfCTVb)  %%%%HUUUUUGE PUMP EVENT TODAY AT 7pm !!!! 90K PLUS MEMBERS! Come and Watch!!!! r/https://discord.gg/X887JU7 %%%%Binance Largest Pump Group Hey guys, if anyone wants to learn about actual pumps and info on signals and call (tech analysis as wel), please visit the following discord channel with this invite!\\n\\n [https://discord.gg/CVaJA4x](https://discord.gg/CVaJA4x)\\n\\n&amp;#x200B;\\n\\nAlso, here is a link to a video that shows how it goes down (if youd like to learn):\\n\\n[https://www.youtube.com/watch?v=9Ctq1N\\\\_Mrpk](https://www.youtube.com/watch?v=9Ctq1N_Mrpk) %%%%Limited Invites: If you wanna check out a binance pump group with almost 100k members to get more info (recently did VIBE PUMP), here’s an invite can always join and just watch  **Limited Invites: If you wanna check out a binance pump group with almost 100k members to get more info (recently did VIBE PUMP), here’s an invite can always join and just watch :** \\n\\n[https://discord.gg/CVaJA4x](https://discord.gg/CVaJA4x) \\n\\n[https://discord.gg/CVaJA4x](https://discord.gg/CVaJA4x) \\n\\ncheck link to youtube video:\\n\\n[https://www.youtube.com/watch?v=9Ctq1N\\\\_Mrpk](https://www.youtube.com/watch?v=9Ctq1N_Mrpk) %%%%Limited Invites: If you wanna check out a binance pump group with almost 100k members to get more info (recently did VIBE PUMP), here’s an invite can always join and just watch : https://discord.gg/CVaJA4x  **Limited Invites: If you wanna check out a binance pump group with almost 100k members to get more info (recently did VIBE PUMP), here’s an invite can always join and just watch :** \\n\\n[https://discord.gg/CVaJA4x](https://discord.gg/CVaJA4x) \\n\\n[https://discord.gg/CVaJA4x](https://discord.gg/CVaJA4x) \\n\\ncheck link to youtube video:\\n\\n[https://www.youtube.com/watch?v=9Ctq1N\\\\_Mrpk](https://www.youtube.com/watch?v=9Ctq1N_Mrpk)\\n\\n&amp;#x200B; %%%%PUMP THIS SATURDAY! DONT MISS OUT! PUMP GROUP WITH CLOSE TO 100K MEMBERS! \\n\\nJOIN NOW! PUMP IS IN 2 DAYS!!\\n\\n[https://discord.gg/xAhafp7](https://discord.gg/xAhafp7) %%%%pamp it https://bigpumpsignal.com/invite-12d1kjww42 %%%%Biggest pump group with 90k members. VIP invitation for FREE Saturday is the day for the pump! Last chance to join. It's FREE, more info and VIP invitation here: [https://discord.gg/achTjGW](https://discord.gg/achTjGW)\\n\\nGreat results, join now! Over 90000 members! %%%%Limited Invites: If you wanna check out a binance pump group with almost 100k members to get more info (recently did VIBE PUMP), here’s an invite can always join and just watch : r/https://discord.gg/CVaJA4x  **Limited Invites: If you wanna check out a binance pump group with almost 100k members to get more info (recently did VIBE PUMP), here’s an invite can always join and just watch :** r/[https://discord.gg/CVaJA4x](https://discord.gg/CVaJA4x)  %%%%VIP pump group. This week new pump VIP invitation here: [https://discord.gg/achTjGW](https://discord.gg/achTjGW) \\n\\nGreat results, join now! %%%%Limited Invites: If you wanna check out a binance pump group with almost 100k members to get more info (recently did VIBE PUMP), here’s an invite can always join and just watch : https://discord.gg/CVaJA4x  **Limited Invites: If you wanna check out a binance pump group with almost 100k members to get more info (recently did VIBE PUMP), here’s an invite can always join and just watch :** r/https://discord.gg/CVaJA4x  %%%%Limited Invites: If you wanna check out a binance pump group with almost 100k members to get more info (recently did VIBE PUMP), here’s an invite can always join and just watch : https://discord.gg/CVaJA4x ## Limited Invites: If you wanna check out a binance pump group with almost 100k members to get more info (recently did VIBE PUMP), here’s an invite can always join and just watch : [https://discord.gg/CVaJA4x](https://discord.gg/CVaJA4x)\\n\\n&amp;#x200B; %%%%BIG PUMP on saturday!!! It's free to join! More info and instructions: [https://discord.gg/achTjGW](https://discord.gg/achTjGW) \\n\\nThis is the biggest FREE pump group!\\n\\n&amp;#x200B; %%%%If you wanna check out a binance pump group with almost 100k members to get more info, here’s an invite can always join and just watch : https://discord.gg/CVaJA4x If you wanna check out a binance pump group with almost 100k members to get more info, here’s an invite can always join and just watch :  \\n\\n## If you wanna check out a binance pump group with almost 100k members to get more info, here’s an invite can always join and just watch : r/https://discord.gg/CVaJA4x\\n\\n📷\\n\\nIf you wanna check out a binance pump group with almost 100k members to get more info, here’s an invite can always join and just watch : [https://discord.gg/CVaJA4x](https://discord.gg/CVaJA4x) %%%%80k member pump group ! free of charge, were pumping a coin in binance in 3 days. join here to snag your spot  %%%%Join a very high intensity/knowledgeable legit pump group that knows what they are doing and are not scammers (the first of its kind) binance pump group - over 100K members :)  \\n\\n## Join a very high intensity/knowledgeable legit pump group that knows what they are doing and are not scammers (the first of its kind) binance pump group - over 100K members :)\\n\\n📷\\n\\n[https://discord.gg/CVaJA4x](https://discord.gg/CVaJA4x)\\n\\n[https://discord.gg/CVaJA4x](https://discord.gg/CVaJA4x)\\n\\n[https://discord.gg/CVaJA4x](https://discord.gg/CVaJA4x) %%%%If you wanna check out a binance pump group with almost 100k members to get more info, here’s an invite can always join and just watch : https://discord.gg/CVaJA4x If you wanna check out a binance pump group with almost 100k members to get more info, here’s an invite can always join and just watch : https://discord.gg/CVaJA4x %%%%Join a very high intensity/knowledgeable legit pump group that knows what they are doing and are not scammers (the first of its kind) binance pump group - over 100K members :) [https://discord.gg/CVaJA4x](https://discord.gg/CVaJA4x)\\n\\n[https://discord.gg/CVaJA4x](https://discord.gg/CVaJA4x)\\n\\n[https://discord.gg/CVaJA4x](https://discord.gg/CVaJA4x)\\n\\n&amp;#x200B; %%%%Big pump this week!!! 25-30.9.2018 Details and info here: [https://discord.gg/achTjGW](https://discord.gg/achTjGW) \""
      ]
     },
     "execution_count": 50,
     "metadata": {},
     "output_type": "execute_result"
    }
   ],
   "source": [
    "train_corpus_str = \"%%%%\".join(str(x) for x in corpus_train)\n",
    "train_corpus_str"
   ]
  },
  {
   "cell_type": "code",
   "execution_count": 66,
   "metadata": {},
   "outputs": [
    {
     "data": {
      "text/plain": [
       "\"🌷📌AIRDROPS FOR 600 PARTICIPANT ONLY [removed] %%%%Next Pump Announced Tomorrow! Expected returns are 2000% (New Exchange!!) [removed] %%%%MEGAPUMPGROUP IS BACK!! the oldest and most mature and real pump group is now back! check it out now!!\\n\\n  \\n\\n[https://discord.gg/ZBSxPRF](https://discord.gg/ZBSxPRF)\\n\\n  \\n\\n[https://discord.gg/ZBSxPRF](https://discord.gg/ZBSxPRF)\\n\\n  \\n\\n[https://discord.gg/ZBSxPRF](https://discord.gg/ZBSxPRF)\\n\\n&amp;#x200B; %%%%This Saturday - another pump! Don't miss it VIP invite to join: [https://discord.gg/vKfCTVb](https://discord.gg/vKfCTVb)\\n\\n&amp;#x200B; %%%%PKG Token buy now on mercatox exchange 10000x to 100000x profits 💯%  %%%%New big pump scheduled! Be the first to know more about it! For more info, VIP invitation here: [https://discord.gg/vKfCTVb](https://discord.gg/vKfCTVb) %%%%In 1 hour, very big pump!!! 90000 + members.\\n\\nIn 1 hour the pump begins! \\n\\nLast chance to join here: [https://discord.gg/vKfCTVb](https://discord.gg/vKfCTVb)  %%%%HUUUUUGE PUMP EVENT TODAY AT 7pm !!!! 90K PLUS MEMBERS! Come and Watch!!!! r/https://discord.gg/X887JU7 %%%%Binance Largest Pump Group Hey guys, if anyone wants to learn about actual pumps and info on signals and call (tech analysis as wel), please visit the following discord channel with this invite!\\n\\n [https://discord.gg/CVaJA4x](https://discord.gg/CVaJA4x)\\n\\n&amp;#x200B;\\n\\nAlso, here is a link to a video that shows how it goes down (if youd like to learn):\\n\\n[https://www.youtube.com/watch?v=9Ctq1N\\\\_Mrpk](https://www.youtube.com/watch?v=9Ctq1N_Mrpk) %%%%Limited Invites: If you wanna check out a binance pump group with almost 100k members to get more info (recently did VIBE PUMP), here’s an invite can always join and just watch  **Limited Invites: If you wanna check out a binance pump group with almost 100k members to get more info (recently did VIBE PUMP), here’s an invite can always join and just watch :** \\n\\n[https://discord.gg/CVaJA4x](https://discord.gg/CVaJA4x) \\n\\n[https://discord.gg/CVaJA4x](https://discord.gg/CVaJA4x) \\n\\ncheck link to youtube video:\\n\\n[https://www.youtube.com/watch?v=9Ctq1N\\\\_Mrpk](https://www.youtube.com/watch?v=9Ctq1N_Mrpk) %%%%Limited Invites: If you wanna check out a binance pump group with almost 100k members to get more info (recently did VIBE PUMP), here’s an invite can always join and just watch : https://discord.gg/CVaJA4x  **Limited Invites: If you wanna check out a binance pump group with almost 100k members to get more info (recently did VIBE PUMP), here’s an invite can always join and just watch :** \\n\\n[https://discord.gg/CVaJA4x](https://discord.gg/CVaJA4x) \\n\\n[https://discord.gg/CVaJA4x](https://discord.gg/CVaJA4x) \\n\\ncheck link to youtube video:\\n\\n[https://www.youtube.com/watch?v=9Ctq1N\\\\_Mrpk](https://www.youtube.com/watch?v=9Ctq1N_Mrpk)\\n\\n&amp;#x200B; %%%%PUMP THIS SATURDAY! DONT MISS OUT! PUMP GROUP WITH CLOSE TO 100K MEMBERS! \\n\\nJOIN NOW! PUMP IS IN 2 DAYS!!\\n\\n[https://discord.gg/xAhafp7](https://discord.gg/xAhafp7) %%%%pamp it https://bigpumpsignal.com/invite-12d1kjww42 %%%%Biggest pump group with 90k members. VIP invitation for FREE Saturday is the day for the pump! Last chance to join. It's FREE, more info and VIP invitation here: [https://discord.gg/achTjGW](https://discord.gg/achTjGW)\\n\\nGreat results, join now! Over 90000 members! %%%%Limited Invites: If you wanna check out a binance pump group with almost 100k members to get more info (recently did VIBE PUMP), here’s an invite can always join and just watch : r/https://discord.gg/CVaJA4x  **Limited Invites: If you wanna check out a binance pump group with almost 100k members to get more info (recently did VIBE PUMP), here’s an invite can always join and just watch :** r/[https://discord.gg/CVaJA4x](https://discord.gg/CVaJA4x)  %%%%VIP pump group. This week new pump VIP invitation here: [https://discord.gg/achTjGW](https://discord.gg/achTjGW) \\n\\nGreat results, join now! %%%%Limited Invites: If you wanna check out a binance pump group with almost 100k members to get more info (recently did VIBE PUMP), here’s an invite can always join and just watch : https://discord.gg/CVaJA4x  **Limited Invites: If you wanna check out a binance pump group with almost 100k members to get more info (recently did VIBE PUMP), here’s an invite can always join and just watch :** r/https://discord.gg/CVaJA4x  %%%%Limited Invites: If you wanna check out a binance pump group with almost 100k members to get more info (recently did VIBE PUMP), here’s an invite can always join and just watch : https://discord.gg/CVaJA4x ## Limited Invites: If you wanna check out a binance pump group with almost 100k members to get more info (recently did VIBE PUMP), here’s an invite can always join and just watch : [https://discord.gg/CVaJA4x](https://discord.gg/CVaJA4x)\\n\\n&amp;#x200B; %%%%BIG PUMP on saturday!!! It's free to join! More info and instructions: [https://discord.gg/achTjGW](https://discord.gg/achTjGW) \\n\\nThis is the biggest FREE pump group!\\n\\n&amp;#x200B; %%%%If you wanna check out a binance pump group with almost 100k members to get more info, here’s an invite can always join and just watch : https://discord.gg/CVaJA4x If you wanna check out a binance pump group with almost 100k members to get more info, here’s an invite can always join and just watch :  \\n\\n## If you wanna check out a binance pump group with almost 100k members to get more info, here’s an invite can always join and just watch : r/https://discord.gg/CVaJA4x\\n\\n📷\\n\\nIf you wanna check out a binance pump group with almost 100k members to get more info, here’s an invite can always join and just watch : [https://discord.gg/CVaJA4x](https://discord.gg/CVaJA4x) %%%%80k member pump group ! free of charge, were pumping a coin in binance in 3 days. join here to snag your spot  %%%%Join a very high intensity/knowledgeable legit pump group that knows what they are doing and are not scammers (the first of its kind) binance pump group - over 100K members :)  \\n\\n## Join a very high intensity/knowledgeable legit pump group that knows what they are doing and are not scammers (the first of its kind) binance pump group - over 100K members :)\\n\\n📷\\n\\n[https://discord.gg/CVaJA4x](https://discord.gg/CVaJA4x)\\n\\n[https://discord.gg/CVaJA4x](https://discord.gg/CVaJA4x)\\n\\n[https://discord.gg/CVaJA4x](https://discord.gg/CVaJA4x) %%%%If you wanna check out a binance pump group with almost 100k members to get more info, here’s an invite can always join and just watch : https://discord.gg/CVaJA4x If you wanna check out a binance pump group with almost 100k members to get more info, here’s an invite can always join and just watch : https://discord.gg/CVaJA4x %%%%Join a very high intensity/knowledgeable legit pump group that knows what they are doing and are not scammers (the first of its kind) binance pump group - over 100K members :) [https://discord.gg/CVaJA4x](https://discord.gg/CVaJA4x)\\n\\n[https://discord.gg/CVaJA4x](https://discord.gg/CVaJA4x)\\n\\n[https://discord.gg/CVaJA4x](https://discord.gg/CVaJA4x)\\n\\n&amp;#x200B; %%%%Big pump this week!!! 25-30.9.2018 Details and info here: [https://discord.gg/achTjGW](https://discord.gg/achTjGW) \""
      ]
     },
     "execution_count": 66,
     "metadata": {},
     "output_type": "execute_result"
    }
   ],
   "source": [
    "train_corpus_str"
   ]
  },
  {
   "cell_type": "code",
   "execution_count": 87,
   "metadata": {},
   "outputs": [
    {
     "data": {
      "text/plain": [
       "['https://discord.gg/ZBSxPRF',\n",
       " 'https://discord.gg/ZBSxPRF',\n",
       " 'https://discord.gg/ZBSxPRF',\n",
       " 'https://discord.gg/ZBSxPRF',\n",
       " 'https://discord.gg/ZBSxPRF',\n",
       " 'https://discord.gg/ZBSxPRF',\n",
       " 'https://discord.gg/vKfCTVb',\n",
       " 'https://discord.gg/vKfCTVb',\n",
       " 'https://discord.gg/vKfCTVb',\n",
       " 'https://discord.gg/vKfCTVb',\n",
       " 'https://discord.gg/vKfCTVb',\n",
       " 'https://discord.gg/vKfCTVb',\n",
       " 'https://discord.gg/X887JU7',\n",
       " 'https://discord.gg/CVaJA4x',\n",
       " 'https://discord.gg/CVaJA4x',\n",
       " 'https://www.youtube.com/watch?v=9Ctq1N',\n",
       " 'https://www.youtube.com/watch?v=9Ctq1N_Mrpk',\n",
       " 'https://discord.gg/CVaJA4x',\n",
       " 'https://discord.gg/CVaJA4x',\n",
       " 'https://discord.gg/CVaJA4x',\n",
       " 'https://discord.gg/CVaJA4x',\n",
       " 'https://www.youtube.com/watch?v=9Ctq1N',\n",
       " 'https://www.youtube.com/watch?v=9Ctq1N_Mrpk',\n",
       " 'https://discord.gg/CVaJA4x',\n",
       " 'https://discord.gg/CVaJA4x',\n",
       " 'https://discord.gg/CVaJA4x',\n",
       " 'https://discord.gg/CVaJA4x',\n",
       " 'https://discord.gg/CVaJA4x',\n",
       " 'https://www.youtube.com/watch?v=9Ctq1N',\n",
       " 'https://www.youtube.com/watch?v=9Ctq1N_Mrpk',\n",
       " 'https://discord.gg/xAhafp7',\n",
       " 'https://discord.gg/xAhafp7',\n",
       " 'https://bigpumpsignal.com/invite-12d1kjww42',\n",
       " 'https://discord.gg/achTjGW',\n",
       " 'https://discord.gg/achTjGW',\n",
       " 'https://discord.gg/CVaJA4x',\n",
       " 'https://discord.gg/CVaJA4x',\n",
       " 'https://discord.gg/CVaJA4x',\n",
       " 'https://discord.gg/achTjGW',\n",
       " 'https://discord.gg/achTjGW',\n",
       " 'https://discord.gg/CVaJA4x',\n",
       " 'https://discord.gg/CVaJA4x',\n",
       " 'https://discord.gg/CVaJA4x',\n",
       " 'https://discord.gg/CVaJA4x',\n",
       " 'https://discord.gg/CVaJA4x',\n",
       " 'https://discord.gg/achTjGW',\n",
       " 'https://discord.gg/achTjGW',\n",
       " 'https://discord.gg/CVaJA4x',\n",
       " 'https://discord.gg/CVaJA4x',\n",
       " 'https://discord.gg/CVaJA4x',\n",
       " 'https://discord.gg/CVaJA4x',\n",
       " 'https://discord.gg/CVaJA4x',\n",
       " 'https://discord.gg/CVaJA4x',\n",
       " 'https://discord.gg/CVaJA4x',\n",
       " 'https://discord.gg/CVaJA4x',\n",
       " 'https://discord.gg/CVaJA4x',\n",
       " 'https://discord.gg/CVaJA4x',\n",
       " 'https://discord.gg/CVaJA4x',\n",
       " 'https://discord.gg/CVaJA4x',\n",
       " 'https://discord.gg/CVaJA4x',\n",
       " 'https://discord.gg/CVaJA4x',\n",
       " 'https://discord.gg/CVaJA4x',\n",
       " 'https://discord.gg/CVaJA4x',\n",
       " 'https://discord.gg/CVaJA4x',\n",
       " 'https://discord.gg/CVaJA4x',\n",
       " 'https://discord.gg/achTjGW',\n",
       " 'https://discord.gg/achTjGW']"
      ]
     },
     "execution_count": 87,
     "metadata": {},
     "output_type": "execute_result"
    }
   ],
   "source": [
    "regex = 'https?://(?:[-\\w.]|(?:%[\\da-fA-F]{2}))+/\\w*(?:\\?v=\\w*)?-?\\w*'\n",
    "urls = re.findall(regex, train_corpus_str)\n",
    "urls"
   ]
  },
  {
   "cell_type": "code",
   "execution_count": 89,
   "metadata": {},
   "outputs": [
    {
     "data": {
      "text/plain": [
       "{'https://bigpumpsignal.com/invite-12d1kjww42',\n",
       " 'https://discord.gg/CVaJA4x',\n",
       " 'https://discord.gg/X887JU7',\n",
       " 'https://discord.gg/ZBSxPRF',\n",
       " 'https://discord.gg/achTjGW',\n",
       " 'https://discord.gg/vKfCTVb',\n",
       " 'https://discord.gg/xAhafp7',\n",
       " 'https://www.youtube.com/watch?v=9Ctq1N',\n",
       " 'https://www.youtube.com/watch?v=9Ctq1N_Mrpk'}"
      ]
     },
     "execution_count": 89,
     "metadata": {},
     "output_type": "execute_result"
    }
   ],
   "source": [
    "set(urls)"
   ]
  },
  {
   "cell_type": "code",
   "execution_count": 78,
   "metadata": {},
   "outputs": [
    {
     "data": {
      "text/plain": [
       "['https://www.youtube.com/watch?']"
      ]
     },
     "execution_count": 78,
     "metadata": {},
     "output_type": "execute_result"
    }
   ],
   "source": [
    "t = 'https://www.youtube.com/watch?v=9Ctq1N_Mrpk'\n",
    "regex = 'https?://(?:[-\\w.]|(?:%[\\da-fA-F]{2}))+/\\w*\\??'\n",
    "urls = re.findall(regex, t)\n",
    "urls"
   ]
  },
  {
   "cell_type": "code",
   "execution_count": 88,
   "metadata": {},
   "outputs": [
    {
     "data": {
      "text/plain": [
       "67"
      ]
     },
     "execution_count": 88,
     "metadata": {},
     "output_type": "execute_result"
    }
   ],
   "source": [
    "len(urls)"
   ]
  },
  {
   "cell_type": "code",
   "execution_count": 55,
   "metadata": {},
   "outputs": [],
   "source": [
    "import copy\n",
    "\n",
    "train_corpus_str_no_url = copy.deepcopy(train_corpus_str)\n",
    "\n",
    "for url in urls:\n",
    "    train_corpus_str_no_url = train_corpus_str_no_url.replace(url, '')"
   ]
  },
  {
   "cell_type": "code",
   "execution_count": 57,
   "metadata": {},
   "outputs": [],
   "source": [
    "train_corpus_ls_no_url = train_corpus_str_no_url.split('%%%%')"
   ]
  },
  {
   "cell_type": "code",
   "execution_count": 58,
   "metadata": {},
   "outputs": [
    {
     "name": "stdout",
     "output_type": "stream",
     "text": [
      "Starting at 2019-11-13 11:37:32.769794\n",
      "Finished at 2019-11-13 11:37:32.805482\n",
      "Total time: --- 0.0359 seconds ---\n"
     ]
    }
   ],
   "source": [
    "start_time = time.time()\n",
    "print(\"Starting at \" + str(datetime.datetime.now()))\n",
    "\n",
    "keyword_dict = dict()\n",
    "\n",
    "for cor in train_corpus_ls_no_url:\n",
    "    keywords=get_keywords(cor)\n",
    "    for k in keywords:\n",
    "        if k in keyword_dict:\n",
    "            keyword_dict[k] += 1\n",
    "        else:\n",
    "            keyword_dict[k] = 1\n",
    "            \n",
    "print(\"Finished at \" + str(datetime.datetime.now()))\n",
    "print(\"Total time: --- {0} seconds ---\".format(round(time.time() - start_time, 4)))"
   ]
  },
  {
   "cell_type": "code",
   "execution_count": 60,
   "metadata": {},
   "outputs": [],
   "source": [
    "sorted_x = sorted(keyword_dict.items(), key=lambda kv: kv[1])"
   ]
  },
  {
   "cell_type": "code",
   "execution_count": 65,
   "metadata": {},
   "outputs": [
    {
     "data": {
      "text/plain": [
       "103"
      ]
     },
     "execution_count": 65,
     "metadata": {},
     "output_type": "execute_result"
    }
   ],
   "source": [
    "len(sorted_x)"
   ]
  },
  {
   "cell_type": "code",
   "execution_count": 93,
   "metadata": {},
   "outputs": [
    {
     "data": {
      "text/plain": [
       "25"
      ]
     },
     "execution_count": 93,
     "metadata": {},
     "output_type": "execute_result"
    }
   ],
   "source": [
    "len(list([i for i in sorted_x if i[1] >2]))"
   ]
  },
  {
   "cell_type": "code",
   "execution_count": 98,
   "metadata": {},
   "outputs": [],
   "source": [
    "keys_sorted = [k for k, v in sorted_x]"
   ]
  },
  {
   "cell_type": "code",
   "execution_count": 99,
   "metadata": {},
   "outputs": [
    {
     "data": {
      "text/plain": [
       "['participant',\n",
       " 'only',\n",
       " 'airdrops',\n",
       " '600',\n",
       " 'tomorrow',\n",
       " 'returns',\n",
       " 'next',\n",
       " 'expected',\n",
       " 'announced',\n",
       " '2000',\n",
       " 'back',\n",
       " 'real',\n",
       " 'oldest',\n",
       " 'megapumpgroup',\n",
       " 'mature',\n",
       " 'don',\n",
       " 'token',\n",
       " 'profits',\n",
       " 'pkg',\n",
       " 'mercatox',\n",
       " 'buy',\n",
       " '10000x',\n",
       " '100000x',\n",
       " 'scheduled',\n",
       " 'know',\n",
       " 'hour',\n",
       " 'begins',\n",
       " '90000',\n",
       " 'today',\n",
       " 'plus',\n",
       " 'huuuuuge',\n",
       " 'event',\n",
       " 'come',\n",
       " '7pm',\n",
       " '90k',\n",
       " 'learn',\n",
       " 'youd',\n",
       " 'wel',\n",
       " 'wants',\n",
       " 'visit',\n",
       " 'tech',\n",
       " 'signals',\n",
       " 'shows',\n",
       " 'pumps',\n",
       " 'like',\n",
       " 'dont',\n",
       " 'close',\n",
       " 'pamp',\n",
       " '12d1kjww42',\n",
       " 'day',\n",
       " 'instructions',\n",
       " 'spot',\n",
       " 'snag',\n",
       " 'pumping',\n",
       " 'member',\n",
       " 'coin',\n",
       " 'charge',\n",
       " '80k',\n",
       " 'details',\n",
       " '30',\n",
       " '25',\n",
       " '2018',\n",
       " 'exchange',\n",
       " 'miss',\n",
       " 'last',\n",
       " 'chance',\n",
       " 'days',\n",
       " 'results',\n",
       " 'great',\n",
       " 'biggest',\n",
       " 'week',\n",
       " 'scammers',\n",
       " 'legit',\n",
       " 'knows',\n",
       " 'knowledgeable',\n",
       " 'kind',\n",
       " 'intensity',\n",
       " 'high',\n",
       " 'new',\n",
       " 'amp',\n",
       " 'saturday',\n",
       " 'invitation',\n",
       " 'first',\n",
       " 'free',\n",
       " 'binance',\n",
       " 'now',\n",
       " 'x200b',\n",
       " 'vip',\n",
       " 'big',\n",
       " 'vibe',\n",
       " 'recently',\n",
       " 'limited',\n",
       " 'invites',\n",
       " 'group',\n",
       " 'here',\n",
       " 'members',\n",
       " 'join',\n",
       " 'wanna',\n",
       " 'just',\n",
       " 'check',\n",
       " 'invite',\n",
       " 'watch',\n",
       " '100k']"
      ]
     },
     "execution_count": 99,
     "metadata": {},
     "output_type": "execute_result"
    }
   ],
   "source": [
    "keys_sorted"
   ]
  },
  {
   "cell_type": "code",
   "execution_count": 102,
   "metadata": {},
   "outputs": [],
   "source": [
    "conservative_ls = [\n",
    "    '100k',\n",
    "    'x200b',\n",
    "    'binance',\n",
    "    'invite',\n",
    "    'vip',\n",
    "    'coin',\n",
    "    'pumping',\n",
    "    '12d1kjww42',\n",
    "    'pumps',\n",
    "    'signals',\n",
    "    '90k',\n",
    "    'huuuuuge',\n",
    "    '90000',\n",
    "    '100000x',\n",
    "    '10000x',\n",
    "    'megapumpgroup',\n",
    "    'returns',\n",
    "    'chance',\n",
    "    'amp',\n",
    "    'group'    \n",
    "]"
   ]
  },
  {
   "cell_type": "code",
   "execution_count": null,
   "metadata": {},
   "outputs": [],
   "source": []
  }
 ],
 "metadata": {
  "kernelspec": {
   "display_name": "Python 3",
   "language": "python",
   "name": "python3"
  },
  "language_info": {
   "codemirror_mode": {
    "name": "ipython",
    "version": 3
   },
   "file_extension": ".py",
   "mimetype": "text/x-python",
   "name": "python",
   "nbconvert_exporter": "python",
   "pygments_lexer": "ipython3",
   "version": "3.7.4"
  }
 },
 "nbformat": 4,
 "nbformat_minor": 2
}
